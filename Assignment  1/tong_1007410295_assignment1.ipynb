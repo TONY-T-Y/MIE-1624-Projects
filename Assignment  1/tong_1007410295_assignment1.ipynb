{
 "cells": [
  {
   "cell_type": "markdown",
   "metadata": {},
   "source": [
    "# MIE 1624 Assignment 1 Yao Tong #1007410295"
   ]
  },
  {
   "cell_type": "markdown",
   "metadata": {},
   "source": [
    "## Question 1"
   ]
  },
  {
   "cell_type": "code",
   "execution_count": 47,
   "metadata": {},
   "outputs": [
    {
     "name": "stderr",
     "output_type": "stream",
     "text": [
      "ERROR: Invalid requirement: '#'\n",
      "ERROR: Invalid requirement: '#'\n"
     ]
    }
   ],
   "source": [
    "!pip install pandas # install pandas\n",
    "!pip install numpy # install numpy"
   ]
  },
  {
   "cell_type": "code",
   "execution_count": 48,
   "metadata": {},
   "outputs": [],
   "source": [
    "import numpy as np # import numpy as np\n",
    "import pandas as pd # import pandas as pd\n",
    "#index_col=0"
   ]
  },
  {
   "cell_type": "code",
   "execution_count": 49,
   "metadata": {},
   "outputs": [
    {
     "name": "stdout",
     "output_type": "stream",
     "text": [
      "<class 'pandas.core.frame.DataFrame'>\n"
     ]
    },
    {
     "name": "stderr",
     "output_type": "stream",
     "text": [
      "C:\\app\\Anaconda\\lib\\site-packages\\IPython\\core\\interactiveshell.py:3146: DtypeWarning: Columns (207) have mixed types.Specify dtype option on import or set low_memory=False.\n",
      "  has_raised = await self.run_ast_nodes(code_ast.body, cell_name,\n"
     ]
    },
    {
     "data": {
      "text/html": [
       "<div>\n",
       "<style scoped>\n",
       "    .dataframe tbody tr th:only-of-type {\n",
       "        vertical-align: middle;\n",
       "    }\n",
       "\n",
       "    .dataframe tbody tr th {\n",
       "        vertical-align: top;\n",
       "    }\n",
       "\n",
       "    .dataframe thead th {\n",
       "        text-align: right;\n",
       "    }\n",
       "</style>\n",
       "<table border=\"1\" class=\"dataframe\">\n",
       "  <thead>\n",
       "    <tr style=\"text-align: right;\">\n",
       "      <th></th>\n",
       "      <th>Unnamed: 0</th>\n",
       "      <th>Time from Start to Finish (seconds)</th>\n",
       "      <th>Q1</th>\n",
       "      <th>Q2</th>\n",
       "      <th>Q3</th>\n",
       "      <th>Q4</th>\n",
       "      <th>Q5</th>\n",
       "      <th>Q6</th>\n",
       "      <th>Q7_Part_1</th>\n",
       "      <th>Q7_Part_2</th>\n",
       "      <th>...</th>\n",
       "      <th>Q35_B_Part_2</th>\n",
       "      <th>Q35_B_Part_3</th>\n",
       "      <th>Q35_B_Part_4</th>\n",
       "      <th>Q35_B_Part_5</th>\n",
       "      <th>Q35_B_Part_6</th>\n",
       "      <th>Q35_B_Part_7</th>\n",
       "      <th>Q35_B_Part_8</th>\n",
       "      <th>Q35_B_Part_9</th>\n",
       "      <th>Q35_B_Part_10</th>\n",
       "      <th>Q35_B_OTHER</th>\n",
       "    </tr>\n",
       "  </thead>\n",
       "  <tbody>\n",
       "    <tr>\n",
       "      <th>0</th>\n",
       "      <td>1</td>\n",
       "      <td>289287</td>\n",
       "      <td>30-34</td>\n",
       "      <td>Man</td>\n",
       "      <td>United States of America</td>\n",
       "      <td>Master’s degree</td>\n",
       "      <td>Data Engineer</td>\n",
       "      <td>5-10 years</td>\n",
       "      <td>Python</td>\n",
       "      <td>R</td>\n",
       "      <td>...</td>\n",
       "      <td>NaN</td>\n",
       "      <td>NaN</td>\n",
       "      <td>NaN</td>\n",
       "      <td>NaN</td>\n",
       "      <td>NaN</td>\n",
       "      <td>NaN</td>\n",
       "      <td>NaN</td>\n",
       "      <td>NaN</td>\n",
       "      <td>NaN</td>\n",
       "      <td>NaN</td>\n",
       "    </tr>\n",
       "    <tr>\n",
       "      <th>1</th>\n",
       "      <td>2</td>\n",
       "      <td>860</td>\n",
       "      <td>35-39</td>\n",
       "      <td>Man</td>\n",
       "      <td>Argentina</td>\n",
       "      <td>Bachelor’s degree</td>\n",
       "      <td>Software Engineer</td>\n",
       "      <td>10-20 years</td>\n",
       "      <td>NaN</td>\n",
       "      <td>NaN</td>\n",
       "      <td>...</td>\n",
       "      <td>NaN</td>\n",
       "      <td>NaN</td>\n",
       "      <td>NaN</td>\n",
       "      <td>NaN</td>\n",
       "      <td>NaN</td>\n",
       "      <td>NaN</td>\n",
       "      <td>NaN</td>\n",
       "      <td>NaN</td>\n",
       "      <td>None</td>\n",
       "      <td>NaN</td>\n",
       "    </tr>\n",
       "    <tr>\n",
       "      <th>2</th>\n",
       "      <td>3</td>\n",
       "      <td>507</td>\n",
       "      <td>30-34</td>\n",
       "      <td>Man</td>\n",
       "      <td>United States of America</td>\n",
       "      <td>Master’s degree</td>\n",
       "      <td>Data Scientist</td>\n",
       "      <td>5-10 years</td>\n",
       "      <td>Python</td>\n",
       "      <td>NaN</td>\n",
       "      <td>...</td>\n",
       "      <td>NaN</td>\n",
       "      <td>NaN</td>\n",
       "      <td>NaN</td>\n",
       "      <td>NaN</td>\n",
       "      <td>NaN</td>\n",
       "      <td>NaN</td>\n",
       "      <td>NaN</td>\n",
       "      <td>NaN</td>\n",
       "      <td>NaN</td>\n",
       "      <td>NaN</td>\n",
       "    </tr>\n",
       "    <tr>\n",
       "      <th>3</th>\n",
       "      <td>8</td>\n",
       "      <td>762</td>\n",
       "      <td>35-39</td>\n",
       "      <td>Man</td>\n",
       "      <td>Germany</td>\n",
       "      <td>Doctoral degree</td>\n",
       "      <td>Data Scientist</td>\n",
       "      <td>5-10 years</td>\n",
       "      <td>Python</td>\n",
       "      <td>NaN</td>\n",
       "      <td>...</td>\n",
       "      <td>NaN</td>\n",
       "      <td>NaN</td>\n",
       "      <td>NaN</td>\n",
       "      <td>NaN</td>\n",
       "      <td>NaN</td>\n",
       "      <td>NaN</td>\n",
       "      <td>NaN</td>\n",
       "      <td>NaN</td>\n",
       "      <td>NaN</td>\n",
       "      <td>NaN</td>\n",
       "    </tr>\n",
       "    <tr>\n",
       "      <th>4</th>\n",
       "      <td>11</td>\n",
       "      <td>742</td>\n",
       "      <td>35-39</td>\n",
       "      <td>Man</td>\n",
       "      <td>United States of America</td>\n",
       "      <td>Doctoral degree</td>\n",
       "      <td>Research Scientist</td>\n",
       "      <td>1-2 years</td>\n",
       "      <td>NaN</td>\n",
       "      <td>R</td>\n",
       "      <td>...</td>\n",
       "      <td>NaN</td>\n",
       "      <td>NaN</td>\n",
       "      <td>NaN</td>\n",
       "      <td>NaN</td>\n",
       "      <td>NaN</td>\n",
       "      <td>NaN</td>\n",
       "      <td>NaN</td>\n",
       "      <td>NaN</td>\n",
       "      <td>NaN</td>\n",
       "      <td>NaN</td>\n",
       "    </tr>\n",
       "    <tr>\n",
       "      <th>...</th>\n",
       "      <td>...</td>\n",
       "      <td>...</td>\n",
       "      <td>...</td>\n",
       "      <td>...</td>\n",
       "      <td>...</td>\n",
       "      <td>...</td>\n",
       "      <td>...</td>\n",
       "      <td>...</td>\n",
       "      <td>...</td>\n",
       "      <td>...</td>\n",
       "      <td>...</td>\n",
       "      <td>...</td>\n",
       "      <td>...</td>\n",
       "      <td>...</td>\n",
       "      <td>...</td>\n",
       "      <td>...</td>\n",
       "      <td>...</td>\n",
       "      <td>...</td>\n",
       "      <td>...</td>\n",
       "      <td>...</td>\n",
       "      <td>...</td>\n",
       "    </tr>\n",
       "    <tr>\n",
       "      <th>10724</th>\n",
       "      <td>20024</td>\n",
       "      <td>2104</td>\n",
       "      <td>35-39</td>\n",
       "      <td>Man</td>\n",
       "      <td>Malaysia</td>\n",
       "      <td>I prefer not to answer</td>\n",
       "      <td>Machine Learning Engineer</td>\n",
       "      <td>1-2 years</td>\n",
       "      <td>Python</td>\n",
       "      <td>NaN</td>\n",
       "      <td>...</td>\n",
       "      <td>NaN</td>\n",
       "      <td>NaN</td>\n",
       "      <td>NaN</td>\n",
       "      <td>TensorBoard</td>\n",
       "      <td>NaN</td>\n",
       "      <td>NaN</td>\n",
       "      <td>Trains</td>\n",
       "      <td>NaN</td>\n",
       "      <td>NaN</td>\n",
       "      <td>NaN</td>\n",
       "    </tr>\n",
       "    <tr>\n",
       "      <th>10725</th>\n",
       "      <td>20029</td>\n",
       "      <td>5461</td>\n",
       "      <td>35-39</td>\n",
       "      <td>Man</td>\n",
       "      <td>Thailand</td>\n",
       "      <td>Bachelor’s degree</td>\n",
       "      <td>Other</td>\n",
       "      <td>10-20 years</td>\n",
       "      <td>NaN</td>\n",
       "      <td>NaN</td>\n",
       "      <td>...</td>\n",
       "      <td>NaN</td>\n",
       "      <td>NaN</td>\n",
       "      <td>NaN</td>\n",
       "      <td>NaN</td>\n",
       "      <td>NaN</td>\n",
       "      <td>NaN</td>\n",
       "      <td>NaN</td>\n",
       "      <td>NaN</td>\n",
       "      <td>None</td>\n",
       "      <td>NaN</td>\n",
       "    </tr>\n",
       "    <tr>\n",
       "      <th>10726</th>\n",
       "      <td>20033</td>\n",
       "      <td>238</td>\n",
       "      <td>30-34</td>\n",
       "      <td>Man</td>\n",
       "      <td>Brazil</td>\n",
       "      <td>Master’s degree</td>\n",
       "      <td>Research Scientist</td>\n",
       "      <td>&lt; 1 years</td>\n",
       "      <td>Python</td>\n",
       "      <td>NaN</td>\n",
       "      <td>...</td>\n",
       "      <td>NaN</td>\n",
       "      <td>NaN</td>\n",
       "      <td>NaN</td>\n",
       "      <td>NaN</td>\n",
       "      <td>NaN</td>\n",
       "      <td>NaN</td>\n",
       "      <td>NaN</td>\n",
       "      <td>NaN</td>\n",
       "      <td>NaN</td>\n",
       "      <td>NaN</td>\n",
       "    </tr>\n",
       "    <tr>\n",
       "      <th>10727</th>\n",
       "      <td>20034</td>\n",
       "      <td>625</td>\n",
       "      <td>22-24</td>\n",
       "      <td>Man</td>\n",
       "      <td>India</td>\n",
       "      <td>Bachelor’s degree</td>\n",
       "      <td>Software Engineer</td>\n",
       "      <td>3-5 years</td>\n",
       "      <td>Python</td>\n",
       "      <td>NaN</td>\n",
       "      <td>...</td>\n",
       "      <td>Weights &amp; Biases</td>\n",
       "      <td>NaN</td>\n",
       "      <td>NaN</td>\n",
       "      <td>TensorBoard</td>\n",
       "      <td>NaN</td>\n",
       "      <td>NaN</td>\n",
       "      <td>Trains</td>\n",
       "      <td>NaN</td>\n",
       "      <td>NaN</td>\n",
       "      <td>NaN</td>\n",
       "    </tr>\n",
       "    <tr>\n",
       "      <th>10728</th>\n",
       "      <td>20035</td>\n",
       "      <td>1031</td>\n",
       "      <td>22-24</td>\n",
       "      <td>Man</td>\n",
       "      <td>Pakistan</td>\n",
       "      <td>Master’s degree</td>\n",
       "      <td>Machine Learning Engineer</td>\n",
       "      <td>&lt; 1 years</td>\n",
       "      <td>Python</td>\n",
       "      <td>NaN</td>\n",
       "      <td>...</td>\n",
       "      <td>Weights &amp; Biases</td>\n",
       "      <td>NaN</td>\n",
       "      <td>NaN</td>\n",
       "      <td>NaN</td>\n",
       "      <td>NaN</td>\n",
       "      <td>NaN</td>\n",
       "      <td>Trains</td>\n",
       "      <td>NaN</td>\n",
       "      <td>NaN</td>\n",
       "      <td>NaN</td>\n",
       "    </tr>\n",
       "  </tbody>\n",
       "</table>\n",
       "<p>10729 rows × 356 columns</p>\n",
       "</div>"
      ],
      "text/plain": [
       "       Unnamed: 0  Time from Start to Finish (seconds)     Q1   Q2  \\\n",
       "0               1                               289287  30-34  Man   \n",
       "1               2                                  860  35-39  Man   \n",
       "2               3                                  507  30-34  Man   \n",
       "3               8                                  762  35-39  Man   \n",
       "4              11                                  742  35-39  Man   \n",
       "...           ...                                  ...    ...  ...   \n",
       "10724       20024                                 2104  35-39  Man   \n",
       "10725       20029                                 5461  35-39  Man   \n",
       "10726       20033                                  238  30-34  Man   \n",
       "10727       20034                                  625  22-24  Man   \n",
       "10728       20035                                 1031  22-24  Man   \n",
       "\n",
       "                             Q3                      Q4  \\\n",
       "0      United States of America         Master’s degree   \n",
       "1                     Argentina       Bachelor’s degree   \n",
       "2      United States of America         Master’s degree   \n",
       "3                       Germany         Doctoral degree   \n",
       "4      United States of America         Doctoral degree   \n",
       "...                         ...                     ...   \n",
       "10724                  Malaysia  I prefer not to answer   \n",
       "10725                  Thailand       Bachelor’s degree   \n",
       "10726                    Brazil         Master’s degree   \n",
       "10727                     India       Bachelor’s degree   \n",
       "10728                  Pakistan         Master’s degree   \n",
       "\n",
       "                              Q5           Q6 Q7_Part_1 Q7_Part_2  ...  \\\n",
       "0                  Data Engineer   5-10 years    Python         R  ...   \n",
       "1              Software Engineer  10-20 years       NaN       NaN  ...   \n",
       "2                 Data Scientist   5-10 years    Python       NaN  ...   \n",
       "3                 Data Scientist   5-10 years    Python       NaN  ...   \n",
       "4             Research Scientist    1-2 years       NaN         R  ...   \n",
       "...                          ...          ...       ...       ...  ...   \n",
       "10724  Machine Learning Engineer    1-2 years    Python       NaN  ...   \n",
       "10725                      Other  10-20 years       NaN       NaN  ...   \n",
       "10726         Research Scientist    < 1 years    Python       NaN  ...   \n",
       "10727          Software Engineer    3-5 years    Python       NaN  ...   \n",
       "10728  Machine Learning Engineer    < 1 years    Python       NaN  ...   \n",
       "\n",
       "             Q35_B_Part_2 Q35_B_Part_3 Q35_B_Part_4   Q35_B_Part_5  \\\n",
       "0                     NaN          NaN          NaN            NaN   \n",
       "1                     NaN          NaN          NaN            NaN   \n",
       "2                     NaN          NaN          NaN            NaN   \n",
       "3                     NaN          NaN          NaN            NaN   \n",
       "4                     NaN          NaN          NaN            NaN   \n",
       "...                   ...          ...          ...            ...   \n",
       "10724                 NaN          NaN          NaN   TensorBoard    \n",
       "10725                 NaN          NaN          NaN            NaN   \n",
       "10726                 NaN          NaN          NaN            NaN   \n",
       "10727   Weights & Biases           NaN          NaN   TensorBoard    \n",
       "10728   Weights & Biases           NaN          NaN            NaN   \n",
       "\n",
       "      Q35_B_Part_6 Q35_B_Part_7 Q35_B_Part_8 Q35_B_Part_9 Q35_B_Part_10  \\\n",
       "0              NaN          NaN          NaN          NaN           NaN   \n",
       "1              NaN          NaN          NaN          NaN          None   \n",
       "2              NaN          NaN          NaN          NaN           NaN   \n",
       "3              NaN          NaN          NaN          NaN           NaN   \n",
       "4              NaN          NaN          NaN          NaN           NaN   \n",
       "...            ...          ...          ...          ...           ...   \n",
       "10724          NaN          NaN      Trains           NaN           NaN   \n",
       "10725          NaN          NaN          NaN          NaN          None   \n",
       "10726          NaN          NaN          NaN          NaN           NaN   \n",
       "10727          NaN          NaN      Trains           NaN           NaN   \n",
       "10728          NaN          NaN      Trains           NaN           NaN   \n",
       "\n",
       "      Q35_B_OTHER  \n",
       "0             NaN  \n",
       "1             NaN  \n",
       "2             NaN  \n",
       "3             NaN  \n",
       "4             NaN  \n",
       "...           ...  \n",
       "10724         NaN  \n",
       "10725         NaN  \n",
       "10726         NaN  \n",
       "10727         NaN  \n",
       "10728         NaN  \n",
       "\n",
       "[10729 rows x 356 columns]"
      ]
     },
     "execution_count": 49,
     "metadata": {},
     "output_type": "execute_result"
    }
   ],
   "source": [
    "df = pd.read_csv('clean_kaggle_data.csv') # read the csv data file \n",
    "print(type(df))\n",
    "df # display the clean dataframe"
   ]
  },
  {
   "cell_type": "code",
   "execution_count": 50,
   "metadata": {},
   "outputs": [
    {
     "data": {
      "text/html": [
       "<div>\n",
       "<style scoped>\n",
       "    .dataframe tbody tr th:only-of-type {\n",
       "        vertical-align: middle;\n",
       "    }\n",
       "\n",
       "    .dataframe tbody tr th {\n",
       "        vertical-align: top;\n",
       "    }\n",
       "\n",
       "    .dataframe thead th {\n",
       "        text-align: right;\n",
       "    }\n",
       "</style>\n",
       "<table border=\"1\" class=\"dataframe\">\n",
       "  <thead>\n",
       "    <tr style=\"text-align: right;\">\n",
       "      <th></th>\n",
       "      <th>Unnamed: 0</th>\n",
       "      <th>Time from Start to Finish (seconds)</th>\n",
       "      <th>Q24</th>\n",
       "    </tr>\n",
       "  </thead>\n",
       "  <tbody>\n",
       "    <tr>\n",
       "      <th>count</th>\n",
       "      <td>10729.000000</td>\n",
       "      <td>1.072900e+04</td>\n",
       "      <td>10729.000000</td>\n",
       "    </tr>\n",
       "    <tr>\n",
       "      <th>mean</th>\n",
       "      <td>10057.796719</td>\n",
       "      <td>9.587565e+03</td>\n",
       "      <td>48777.239258</td>\n",
       "    </tr>\n",
       "    <tr>\n",
       "      <th>std</th>\n",
       "      <td>5781.445851</td>\n",
       "      <td>6.518651e+04</td>\n",
       "      <td>69458.784233</td>\n",
       "    </tr>\n",
       "    <tr>\n",
       "      <th>min</th>\n",
       "      <td>1.000000</td>\n",
       "      <td>1.070000e+02</td>\n",
       "      <td>1000.000000</td>\n",
       "    </tr>\n",
       "    <tr>\n",
       "      <th>25%</th>\n",
       "      <td>5060.000000</td>\n",
       "      <td>5.470000e+02</td>\n",
       "      <td>2000.000000</td>\n",
       "    </tr>\n",
       "    <tr>\n",
       "      <th>50%</th>\n",
       "      <td>10115.000000</td>\n",
       "      <td>7.440000e+02</td>\n",
       "      <td>20000.000000</td>\n",
       "    </tr>\n",
       "    <tr>\n",
       "      <th>75%</th>\n",
       "      <td>15079.000000</td>\n",
       "      <td>1.165000e+03</td>\n",
       "      <td>70000.000000</td>\n",
       "    </tr>\n",
       "    <tr>\n",
       "      <th>max</th>\n",
       "      <td>20035.000000</td>\n",
       "      <td>1.104261e+06</td>\n",
       "      <td>500000.000000</td>\n",
       "    </tr>\n",
       "  </tbody>\n",
       "</table>\n",
       "</div>"
      ],
      "text/plain": [
       "         Unnamed: 0  Time from Start to Finish (seconds)            Q24\n",
       "count  10729.000000                         1.072900e+04   10729.000000\n",
       "mean   10057.796719                         9.587565e+03   48777.239258\n",
       "std     5781.445851                         6.518651e+04   69458.784233\n",
       "min        1.000000                         1.070000e+02    1000.000000\n",
       "25%     5060.000000                         5.470000e+02    2000.000000\n",
       "50%    10115.000000                         7.440000e+02   20000.000000\n",
       "75%    15079.000000                         1.165000e+03   70000.000000\n",
       "max    20035.000000                         1.104261e+06  500000.000000"
      ]
     },
     "execution_count": 50,
     "metadata": {},
     "output_type": "execute_result"
    }
   ],
   "source": [
    "df.describe() # display the description of the dataframe"
   ]
  },
  {
   "cell_type": "markdown",
   "metadata": {},
   "source": [
    "### For salary analyzation"
   ]
  },
  {
   "cell_type": "code",
   "execution_count": 51,
   "metadata": {},
   "outputs": [
    {
     "name": "stdout",
     "output_type": "stream",
     "text": [
      "<class 'pandas.core.series.Series'>\n"
     ]
    },
    {
     "data": {
      "text/plain": [
       "0    125000\n",
       "1     20000\n",
       "2    150000\n",
       "3     80000\n",
       "4     40000\n",
       "Name: Q24, dtype: int64"
      ]
     },
     "execution_count": 51,
     "metadata": {},
     "output_type": "execute_result"
    }
   ],
   "source": [
    "import matplotlib.pyplot as plt # import matplotlib.pyplot as plt\n",
    "salary = df ['Q24']  # set a new series dataframe namwed salary\n",
    "print(type(salary))\n",
    "salary.head()"
   ]
  },
  {
   "cell_type": "code",
   "execution_count": 52,
   "metadata": {},
   "outputs": [
    {
     "data": {
      "image/png": "[encoded data removed]",
      "text/plain": [
       "<Figure size 432x288 with 1 Axes>"
      ]
     },
     "metadata": {
      "needs_background": "light"
     },
     "output_type": "display_data"
    }
   ],
   "source": [
    "\n",
    "#plt.figure(figsize = (10,6))\n",
    "# plot salary histogram diagram with 20 bins\n",
    "plt.hist(df [ [ 'Q24' ] ], bins=20)\n",
    "plt.xlabel('salary')\n",
    "plt.ylabel('Population')\n",
    "plt.title('Distribution of salary')\n",
    "plt.show()"
   ]
  },
  {
   "cell_type": "markdown",
   "metadata": {},
   "source": [
    "### For average salary in countries analyzation"
   ]
  },
  {
   "cell_type": "code",
   "execution_count": 53,
   "metadata": {},
   "outputs": [
    {
     "data": {
      "text/plain": [
       "Text(0.5, 1.0, 'average salary of five countries')"
      ]
     },
     "execution_count": 53,
     "metadata": {},
     "output_type": "execute_result"
    },
    {
     "data": {
      "image/png": "[encoded data removed]",
      "text/plain": [
       "<Figure size 432x288 with 1 Axes>"
      ]
     },
     "metadata": {
      "needs_background": "light"
     },
     "output_type": "display_data"
    }
   ],
   "source": [
    "co_df=pd.DataFrame({\"country\":pd.Series(df.Q3),\"salary\":pd.Series(df.Q24)}) #create a dataframe with country column and salary column\n",
    "co_data = co_df.groupby('country') # make the dataframe grouped by country \n",
    "\n",
    "# build numpy array with the salary of five different countries\n",
    "usa_salary = np.array(co_df[co_df.country == \"United States of America\"]['salary'])\n",
    "can_salary = np.array(co_df[co_df.country == \"Canada\"]['salary'])\n",
    "rus_salary = np.array(co_df[co_df.country == \"Russia\"]['salary'])\n",
    "ind_salary = np.array(co_df[co_df.country == \"India\"]['salary'])\n",
    "chi_salary = np.array(co_df[co_df.country == \"China\"]['salary'])\n",
    "\n",
    "# find the average salary value of these five different countries\n",
    "usa = np.mean(usa_salary)\n",
    "can = np.mean(can_salary)\n",
    "rus = np.mean(rus_salary)\n",
    "ind = np.mean(ind_salary)\n",
    "chi = np.mean(chi_salary)\n",
    "\n",
    "# build a dictionary with keys: country name and values: average salary value\n",
    "country_dict ={\"USA\":usa,\"Canada\":can,\"Russia\":rus,\"India\":ind,\"China\":chi}\n",
    "\n",
    "# plot the bar diagram with size(10,6) and labal information\n",
    "#plt.figure(figsize = (6,5))\n",
    "plt.bar(country_dict.keys(), country_dict.values(), width=0.5, color='g')\n",
    "plt.xlabel('country')\n",
    "plt.ylabel('average salary')\n",
    "plt.title('average salary of five countries')\n"
   ]
  },
  {
   "cell_type": "markdown",
   "metadata": {},
   "source": [
    "### For education analyzation"
   ]
  },
  {
   "cell_type": "code",
   "execution_count": 54,
   "metadata": {},
   "outputs": [
    {
     "data": {
      "image/png": "[encoded data removed]",
      "text/plain": [
       "<Figure size 576x360 with 1 Axes>"
      ]
     },
     "metadata": {
      "needs_background": "light"
     },
     "output_type": "display_data"
    }
   ],
   "source": [
    "#create a dataframe with professional experience column and salary column\n",
    "exp_df=pd.DataFrame({\"experience\":pd.Series(df.Q6),\"salary\":pd.Series(df.Q24)})\n",
    "exp_data = exp_df.groupby('experience')\n",
    "\n",
    "# build numpy array with the salary of all professional experience level\n",
    "y0_salary = np.array(exp_df[exp_df.experience == \"I have never written code\"]['salary'])\n",
    "y0_1_salary = np.array(exp_df[exp_df.experience == \"< 1 years\"]['salary'])\n",
    "y1_2_salary = np.array(exp_df[exp_df.experience == \"1-2 years\"]['salary'])\n",
    "y3_5_salary = np.array(exp_df[exp_df.experience == \"3-5 years\"]['salary'])\n",
    "y5_10_salary = np.array(exp_df[exp_df.experience == \"5-10 years\"]['salary'])\n",
    "y10_20_salary = np.array(exp_df[exp_df.experience == \"10-20 years\"]['salary'])\n",
    "y20_salary = np.array(exp_df[exp_df.experience == \"20+ years\"]['salary'])\n",
    "\n",
    "# find the average salary value of these professional experience level\n",
    "y0 = np.mean(y0_salary)\n",
    "y0_1 = np.mean(y0_1_salary)\n",
    "y1_2 = np.mean(y1_2_salary)\n",
    "y3_5 = np.mean(y3_5_salary)\n",
    "y5_10 = np.mean(y5_10_salary)\n",
    "y10_20 = np.mean(y10_20_salary)\n",
    "y20 = np.mean(y20_salary)\n",
    "\n",
    "# build a dictionary with keys: rofessional experience level and values: average salary value\n",
    "experience_dict ={\"never written code\":y0,\"< 1 years\":y0_1,\"1-2 years\":y1_2,\"3-5 years\":y3_5,\"5-10 years\":y5_10,\n",
    "               \"10-20 years\":y10_20,\"20+ years\":y20}\n",
    "\n",
    "# plot the line diagram with size(10,6) and labal information\n",
    "x1,y1 = zip(*experience_dict.items())\n",
    "plt.figure(figsize = (8,5))\n",
    "plt.plot(x1, y1)\n",
    "plt.xlabel('professional experience')\n",
    "plt.ylabel('average salary')\n",
    "plt.title('average salary of professional experience level')\n",
    "plt.show()"
   ]
  },
  {
   "cell_type": "markdown",
   "metadata": {},
   "source": [
    "## Question 2"
   ]
  },
  {
   "cell_type": "markdown",
   "metadata": {},
   "source": [
    "### Q 2.a"
   ]
  },
  {
   "cell_type": "code",
   "execution_count": 55,
   "metadata": {},
   "outputs": [
    {
     "name": "stdout",
     "output_type": "stream",
     "text": [
      "                         salary                                        \\\n",
      "                          count           mean            std     min   \n",
      "gender                                                                  \n",
      "Man                      8872.0   50750.619928   70347.974812  1000.0   \n",
      "Nonbinary                  20.0  110050.000000  106267.029595  1000.0   \n",
      "Prefer not to say         131.0   64316.793893   89618.426293  1000.0   \n",
      "Prefer to self-describe    23.0   50217.391304  107875.330621  1000.0   \n",
      "Woman                    1683.0   36417.112299   59442.716093  1000.0   \n",
      "\n",
      "                                                               \n",
      "                             25%      50%       75%       max  \n",
      "gender                                                         \n",
      "Man                       3000.0  25000.0   70000.0  500000.0  \n",
      "Nonbinary                12250.0  85000.0  150000.0  400000.0  \n",
      "Prefer not to say         3000.0  40000.0   90000.0  500000.0  \n",
      "Prefer to self-describe   1000.0   3000.0   50000.0  500000.0  \n",
      "Woman                     1000.0   7500.0   50000.0  500000.0  \n",
      "salary descriptive of men vs. women:\n"
     ]
    },
    {
     "data": {
      "text/html": [
       "<div>\n",
       "<style scoped>\n",
       "    .dataframe tbody tr th:only-of-type {\n",
       "        vertical-align: middle;\n",
       "    }\n",
       "\n",
       "    .dataframe tbody tr th {\n",
       "        vertical-align: top;\n",
       "    }\n",
       "\n",
       "    .dataframe thead tr th {\n",
       "        text-align: left;\n",
       "    }\n",
       "\n",
       "    .dataframe thead tr:last-of-type th {\n",
       "        text-align: right;\n",
       "    }\n",
       "</style>\n",
       "<table border=\"1\" class=\"dataframe\">\n",
       "  <thead>\n",
       "    <tr>\n",
       "      <th></th>\n",
       "      <th colspan=\"8\" halign=\"left\">salary</th>\n",
       "    </tr>\n",
       "    <tr>\n",
       "      <th></th>\n",
       "      <th>count</th>\n",
       "      <th>mean</th>\n",
       "      <th>std</th>\n",
       "      <th>min</th>\n",
       "      <th>25%</th>\n",
       "      <th>50%</th>\n",
       "      <th>75%</th>\n",
       "      <th>max</th>\n",
       "    </tr>\n",
       "    <tr>\n",
       "      <th>gender</th>\n",
       "      <th></th>\n",
       "      <th></th>\n",
       "      <th></th>\n",
       "      <th></th>\n",
       "      <th></th>\n",
       "      <th></th>\n",
       "      <th></th>\n",
       "      <th></th>\n",
       "    </tr>\n",
       "  </thead>\n",
       "  <tbody>\n",
       "    <tr>\n",
       "      <th>Man</th>\n",
       "      <td>8872.0</td>\n",
       "      <td>50750.619928</td>\n",
       "      <td>70347.974812</td>\n",
       "      <td>1000.0</td>\n",
       "      <td>3000.0</td>\n",
       "      <td>25000.0</td>\n",
       "      <td>70000.0</td>\n",
       "      <td>500000.0</td>\n",
       "    </tr>\n",
       "    <tr>\n",
       "      <th>Woman</th>\n",
       "      <td>1683.0</td>\n",
       "      <td>36417.112299</td>\n",
       "      <td>59442.716093</td>\n",
       "      <td>1000.0</td>\n",
       "      <td>1000.0</td>\n",
       "      <td>7500.0</td>\n",
       "      <td>50000.0</td>\n",
       "      <td>500000.0</td>\n",
       "    </tr>\n",
       "  </tbody>\n",
       "</table>\n",
       "</div>"
      ],
      "text/plain": [
       "        salary                                                                \\\n",
       "         count          mean           std     min     25%      50%      75%   \n",
       "gender                                                                         \n",
       "Man     8872.0  50750.619928  70347.974812  1000.0  3000.0  25000.0  70000.0   \n",
       "Woman   1683.0  36417.112299  59442.716093  1000.0  1000.0   7500.0  50000.0   \n",
       "\n",
       "                  \n",
       "             max  \n",
       "gender            \n",
       "Man     500000.0  \n",
       "Woman   500000.0  "
      ]
     },
     "execution_count": 55,
     "metadata": {},
     "output_type": "execute_result"
    }
   ],
   "source": [
    "#create a dataframe with gender column and salary column\n",
    "gs = pd.DataFrame({\"gender\":pd.Series(df.Q2),\"salary\":pd.Series(df.Q24)})\n",
    "# make the dataframe grouped by gender\n",
    "gender_data = gs.groupby('gender')\n",
    "# report descriptive statistics for all groups of gender salary \n",
    "print(gender_data.describe())\n",
    "\n",
    "# create a dataframe when gender is man \n",
    "gs_man = gs[gs.gender == \"Man\"]\n",
    "# create a dataframe when gender is woman\n",
    "gs_woman = gs[gs.gender == \"Woman\"]\n",
    "# build a new dataframe combined with the man dataframe and woman dataframe\n",
    "gs_gender = pd.concat([gs_man, gs_woman])\n",
    "\n",
    "# report descriptive statistics for two groups gender salary (men and women)\n",
    "print(\"salary descriptive of men vs. women:\")\n",
    "gs_gender.dropna().groupby(\"gender\").describe()"
   ]
  },
  {
   "cell_type": "markdown",
   "metadata": {},
   "source": [
    "## Q 2.b"
   ]
  },
  {
   "cell_type": "code",
   "execution_count": 56,
   "metadata": {},
   "outputs": [],
   "source": [
    "from scipy import stats # import stats from scipy\n",
    "import math # import math"
   ]
  },
  {
   "cell_type": "code",
   "execution_count": 57,
   "metadata": {},
   "outputs": [
    {
     "name": "stdout",
     "output_type": "stream",
     "text": [
      "t-test: t = -7.84433  p = 4.77315e-15\n",
      "The difference is statistically significant\n"
     ]
    }
   ],
   "source": [
    "# build new dataframe with man and woman salary information\n",
    "salary_male = gs_man['salary']\n",
    "salary_female = gs_woman['salary']\n",
    "\n",
    "# calculate the T-test get t value and p value for the means of two independent samples\n",
    "t1, p1 = stats.ttest_ind(salary_female,salary_male)\n",
    "# print the t value and p value from the t-test result\n",
    "print (\"t-test: t = %g  p = %g\" % (t1, p1))\n",
    "\n",
    "# print whether the difference is statistically significant\n",
    "if p1 > 0.05:\n",
    "    print(\"The difference is not statistically significant\")\n",
    "else:\n",
    "    print (\"The difference is statistically significant\")"
   ]
  },
  {
   "cell_type": "markdown",
   "metadata": {},
   "source": [
    "Explain rationale:\n",
    "\n",
    "Based on the analyzation before, the mean value of man salary and woman salary is different. As there is a significant difference between the means of two groups, we can use t-test to test if this is statistically significant. The result of t-test shows the difference between man and woman salary is statistically significant, man salary is higher than woman salary. \n",
    "\n",
    "However, the t-test is more effective on large sample size and normality assumption. The bootstrapping test will be used in part c, it can estimate the sampling distribution without many of the assumptions needed by parametric methods and work on small sample size."
   ]
  },
  {
   "cell_type": "markdown",
   "metadata": {},
   "source": [
    "## Q 2.c"
   ]
  },
  {
   "cell_type": "code",
   "execution_count": 58,
   "metadata": {},
   "outputs": [
    {
     "data": {
      "text/plain": [
       "<matplotlib.legend.Legend at 0x1e96ccfc430>"
      ]
     },
     "execution_count": 58,
     "metadata": {},
     "output_type": "execute_result"
    },
    {
     "data": {
      "image/png": "[encoded data removed]",
      "text/plain": [
       "<Figure size 720x432 with 1 Axes>"
      ]
     },
     "metadata": {
      "needs_background": "light"
     },
     "output_type": "display_data"
    }
   ],
   "source": [
    "# change the man and women salary dataframe to numpy array\n",
    "salary_female_array = np.array(salary_female)\n",
    "salary_male_array = np.array(salary_male)\n",
    "\n",
    "# create three dataframe with for loop \n",
    "salary_female_bootstrap = []\n",
    "salary_male_bootstrap =[]\n",
    "salary_dif_bootstrap_avg = []\n",
    "\n",
    "for i in range(1000): # for loop to updating the dataframe with range value 1000\n",
    "    \n",
    "    # take random bootstrap sample with replacement from the original sample. The same size as the original sample.\n",
    "    salary_female_avg = np.mean(salary_female_array[np.random.randint(len(salary_female_array),size = len(salary_female_array))])\n",
    "    salary_male_avg = np.mean(salary_male_array [np.random.randint(len(salary_male_array ),size = len(salary_male_array ))])\n",
    "    # take the difference between two boorstrap sample mean values\n",
    "    salary_dif_avg = salary_male_avg - salary_female_avg\n",
    "    \n",
    "    # update the loop result in dataframe\n",
    "    salary_dif_bootstrap_avg.append(salary_dif_avg)\n",
    "    salary_female_bootstrap.append(salary_female_avg)\n",
    "    salary_male_bootstrap.append(salary_male_avg)\n",
    "\n",
    "# plot the salary bootstrapped distributions of men and women\n",
    "plt.figure(figsize = (10,6))\n",
    "plt.hist(salary_female_bootstrap, label = 'female',bins=30)\n",
    "plt.hist(salary_male_bootstrap, label = 'male',bins=30)\n",
    "plt.xlabel('mean salary')\n",
    "plt.ylabel('frequency')\n",
    "plt.title('salary bootstrapped distributions of men and women')\n",
    "plt.legend()"
   ]
  },
  {
   "cell_type": "code",
   "execution_count": 59,
   "metadata": {},
   "outputs": [
    {
     "data": {
      "text/html": [
       "<div>\n",
       "<style scoped>\n",
       "    .dataframe tbody tr th:only-of-type {\n",
       "        vertical-align: middle;\n",
       "    }\n",
       "\n",
       "    .dataframe tbody tr th {\n",
       "        vertical-align: top;\n",
       "    }\n",
       "\n",
       "    .dataframe thead th {\n",
       "        text-align: right;\n",
       "    }\n",
       "</style>\n",
       "<table border=\"1\" class=\"dataframe\">\n",
       "  <thead>\n",
       "    <tr style=\"text-align: right;\">\n",
       "      <th></th>\n",
       "      <th>mean</th>\n",
       "      <th>standard deviation</th>\n",
       "    </tr>\n",
       "  </thead>\n",
       "  <tbody>\n",
       "    <tr>\n",
       "      <th>bootstrapped_female</th>\n",
       "      <td>36374.650327</td>\n",
       "      <td>1455.754620</td>\n",
       "    </tr>\n",
       "    <tr>\n",
       "      <th>bootstrapped_male</th>\n",
       "      <td>50782.679159</td>\n",
       "      <td>712.920291</td>\n",
       "    </tr>\n",
       "  </tbody>\n",
       "</table>\n",
       "</div>"
      ],
      "text/plain": [
       "                             mean  standard deviation\n",
       "bootstrapped_female  36374.650327         1455.754620\n",
       "bootstrapped_male    50782.679159          712.920291"
      ]
     },
     "execution_count": 59,
     "metadata": {},
     "output_type": "execute_result"
    }
   ],
   "source": [
    "# build a dataframe with the mean and standard deviation values of women and men salary\n",
    "std_mean = pd.DataFrame({\"mean\":[np.mean(salary_female_bootstrap),np.mean(salary_male_bootstrap)],\"standard deviation\":[np.std(salary_female_bootstrap),np.std(salary_male_bootstrap)]},index = [\"bootstrapped_female\",\"bootstrapped_male\"])\n",
    "std_mean"
   ]
  },
  {
   "cell_type": "code",
   "execution_count": 60,
   "metadata": {},
   "outputs": [
    {
     "name": "stdout",
     "output_type": "stream",
     "text": [
      "mean value of the difference in means: 14408.028832355005\n"
     ]
    },
    {
     "data": {
      "image/png": "[encoded data removed]",
      "text/plain": [
       "<Figure size 432x288 with 1 Axes>"
      ]
     },
     "metadata": {
      "needs_background": "light"
     },
     "output_type": "display_data"
    }
   ],
   "source": [
    "# finding the difference in means (central limit theorem) \n",
    "\n",
    "# calsulate the number of bootstrapping dataset samples (men and women)\n",
    "N_male = len(salary_male_bootstrap)\n",
    "N_female =len(salary_female_bootstrap)\n",
    "\n",
    "# calculate the variance value of male and female group\n",
    "variance_male = np.var(salary_male_bootstrap)\n",
    "variance_female = np.var(salary_female_bootstrap)\n",
    "\n",
    "# calculate the standard deviation value between these two groups\n",
    "s = math.sqrt((variance_male/N_male) + (variance_female/N_female))\n",
    "\n",
    "# calculate the difference between means\n",
    "mu_female_male_dif = np.mean(salary_male_bootstrap) - np.mean(salary_female_bootstrap)\n",
    "\n",
    "# report the mean value of the difference in means\n",
    "print(\"mean value of the difference in means:\",mu_female_male_dif)\n",
    "\n",
    "# find the distribution range with 99.7% probability\n",
    "x = np.linspace(mu_female_male_dif - 3*s, mu_female_male_dif + 3*s)\n",
    "\n",
    "#Plot distribution of the difference in means\n",
    "plt.plot(x, stats.norm.pdf(x, mu_female_male_dif, s))\n",
    "plt.ylabel('frequency')\n",
    "plt.xlabel('difference in means')\n",
    "plt.title('distribution of the difference in means of salary')\n",
    "plt.show()\n"
   ]
  },
  {
   "cell_type": "markdown",
   "metadata": {},
   "source": [
    "## Q 2.d"
   ]
  },
  {
   "cell_type": "code",
   "execution_count": 61,
   "metadata": {},
   "outputs": [
    {
     "name": "stdout",
     "output_type": "stream",
     "text": [
      "t-test: t = -280.943  p = 0\n",
      "The difference is statistically significant\n"
     ]
    }
   ],
   "source": [
    "# calculate the T-test get t value and p value for the means of two independent samples\n",
    "t2, p2 = stats.ttest_ind(salary_female_bootstrap,salary_male_bootstrap)\n",
    "\n",
    "# print the t value and p value from the t-test result\n",
    "print (\"t-test: t = %g  p = %g\" % (t2, p2))\n",
    "\n",
    "# print whether the difference is statistically significant\n",
    "if p2 > 0.05:\n",
    "    print(\"The difference is not statistically significant\")\n",
    "else:\n",
    "    print (\"The difference is statistically significant\")"
   ]
  },
  {
   "cell_type": "markdown",
   "metadata": {},
   "source": [
    "Explain rationale:\n",
    "\n",
    "Same as Q2.b, the t-test result shows t value is -272.96 and p value is 0, Because p value is far smaller then 0.05, the difference between men and women salary is statistically significant. For explain rationale, this t-test on the bootstrapped data shows higher statistic t value and lower p value. In addition, t-test is very suitable and reliable for analysis of the two bootstrapped samples means."
   ]
  },
  {
   "cell_type": "markdown",
   "metadata": {},
   "source": [
    "## Q 2.e"
   ]
  },
  {
   "cell_type": "markdown",
   "metadata": {},
   "source": [
    "From the simple analyzation of the original dataset, we get the difference of the men and women average salary. Then the t-test and bootstrapping method be used to analyze the statistically significant of two independent samples. The reason of why using two-sample t-test is: based on analyzation of original dataset, we don not know whether the difference is not due to chance, and whether the difference is also present in the unobserved population. However, the t-test is more effective on large sample size and normality assumption. The bootstrapping method be used in part c, it can estimate the sampling distribution without many of the assumptions needed by parametric methods and work on small sample size. In this question, p value after two times t-test all smaller than 0.05. Therefore, the difference between men and women salary is statistically significant, and the alternative hypothesis should be selected. We can say the man’s salary is higher than woman’s salary."
   ]
  },
  {
   "cell_type": "markdown",
   "metadata": {},
   "source": [
    "## Question 3"
   ]
  },
  {
   "cell_type": "markdown",
   "metadata": {},
   "source": [
    "## Q 3.a"
   ]
  },
  {
   "cell_type": "code",
   "execution_count": 62,
   "metadata": {},
   "outputs": [
    {
     "name": "stdout",
     "output_type": "stream",
     "text": [
      "salary descriptive in level of education:\n"
     ]
    },
    {
     "data": {
      "text/html": [
       "<div>\n",
       "<style scoped>\n",
       "    .dataframe tbody tr th:only-of-type {\n",
       "        vertical-align: middle;\n",
       "    }\n",
       "\n",
       "    .dataframe tbody tr th {\n",
       "        vertical-align: top;\n",
       "    }\n",
       "\n",
       "    .dataframe thead tr th {\n",
       "        text-align: left;\n",
       "    }\n",
       "\n",
       "    .dataframe thead tr:last-of-type th {\n",
       "        text-align: right;\n",
       "    }\n",
       "</style>\n",
       "<table border=\"1\" class=\"dataframe\">\n",
       "  <thead>\n",
       "    <tr>\n",
       "      <th></th>\n",
       "      <th colspan=\"8\" halign=\"left\">salary</th>\n",
       "    </tr>\n",
       "    <tr>\n",
       "      <th></th>\n",
       "      <th>count</th>\n",
       "      <th>mean</th>\n",
       "      <th>std</th>\n",
       "      <th>min</th>\n",
       "      <th>25%</th>\n",
       "      <th>50%</th>\n",
       "      <th>75%</th>\n",
       "      <th>max</th>\n",
       "    </tr>\n",
       "    <tr>\n",
       "      <th>educational_degree</th>\n",
       "      <th></th>\n",
       "      <th></th>\n",
       "      <th></th>\n",
       "      <th></th>\n",
       "      <th></th>\n",
       "      <th></th>\n",
       "      <th></th>\n",
       "      <th></th>\n",
       "    </tr>\n",
       "  </thead>\n",
       "  <tbody>\n",
       "    <tr>\n",
       "      <th>Bachelor’s degree</th>\n",
       "      <td>3013.0</td>\n",
       "      <td>35732.824427</td>\n",
       "      <td>60247.753546</td>\n",
       "      <td>1000.0</td>\n",
       "      <td>1000.0</td>\n",
       "      <td>10000.0</td>\n",
       "      <td>50000.0</td>\n",
       "      <td>500000.0</td>\n",
       "    </tr>\n",
       "    <tr>\n",
       "      <th>Doctoral degree</th>\n",
       "      <td>1718.0</td>\n",
       "      <td>68719.441211</td>\n",
       "      <td>85403.650394</td>\n",
       "      <td>1000.0</td>\n",
       "      <td>5000.0</td>\n",
       "      <td>40000.0</td>\n",
       "      <td>90000.0</td>\n",
       "      <td>500000.0</td>\n",
       "    </tr>\n",
       "    <tr>\n",
       "      <th>Master’s degree</th>\n",
       "      <td>4879.0</td>\n",
       "      <td>52120.106579</td>\n",
       "      <td>67681.571528</td>\n",
       "      <td>1000.0</td>\n",
       "      <td>4000.0</td>\n",
       "      <td>25000.0</td>\n",
       "      <td>70000.0</td>\n",
       "      <td>500000.0</td>\n",
       "    </tr>\n",
       "  </tbody>\n",
       "</table>\n",
       "</div>"
      ],
      "text/plain": [
       "                    salary                                              \\\n",
       "                     count          mean           std     min     25%   \n",
       "educational_degree                                                       \n",
       "Bachelor’s degree   3013.0  35732.824427  60247.753546  1000.0  1000.0   \n",
       "Doctoral degree     1718.0  68719.441211  85403.650394  1000.0  5000.0   \n",
       "Master’s degree     4879.0  52120.106579  67681.571528  1000.0  4000.0   \n",
       "\n",
       "                                                \n",
       "                        50%      75%       max  \n",
       "educational_degree                              \n",
       "Bachelor’s degree   10000.0  50000.0  500000.0  \n",
       "Doctoral degree     40000.0  90000.0  500000.0  \n",
       "Master’s degree     25000.0  70000.0  500000.0  "
      ]
     },
     "execution_count": 62,
     "metadata": {},
     "output_type": "execute_result"
    }
   ],
   "source": [
    "# create a dataframe with education column and salary column\n",
    "ed_df=pd.DataFrame({\"educational_degree\":pd.Series(df.Q4),\"salary\":pd.Series(df.Q24)})\n",
    "\n",
    "# grouped the dataframe by educational_degree\n",
    "education_data = ed_df.groupby('educational_degree')\n",
    "\n",
    "# create three dataframe with three education level \n",
    "ba_salary = ed_df[ed_df.educational_degree == \"Bachelor’s degree\"]\n",
    "ma_salary = ed_df[ed_df.educational_degree == \"Master’s degree\"]\n",
    "do_salary = ed_df[ed_df.educational_degree == \"Doctoral degree\"]\n",
    "\n",
    "# build a new dataframe combined with the three education level's dataframe \n",
    "ed_salary = pd.concat([ba_salary, ma_salary, do_salary])\n",
    "\n",
    "# print the descriptive statistics for each group\n",
    "print(\"salary descriptive in level of education:\")\n",
    "ed_salary.dropna().groupby(\"educational_degree\").describe()"
   ]
  },
  {
   "cell_type": "markdown",
   "metadata": {},
   "source": [
    "## Q 3.b"
   ]
  },
  {
   "cell_type": "code",
   "execution_count": 63,
   "metadata": {},
   "outputs": [
    {
     "name": "stdout",
     "output_type": "stream",
     "text": [
      "ANOVA testing: f = 129.756  p = 2.48521e-56\n",
      "The difference is statistically significant, alternate hypothesis (Ha)\n"
     ]
    }
   ],
   "source": [
    "# create numpy array of these three education group's salary \n",
    "ba_salary_array = np.array(ba_salary['salary'])\n",
    "ma_salary_array = np.array(ma_salary['salary'])\n",
    "do_salary_array = np.array(do_salary['salary'])\n",
    "\n",
    "# get results of one way ANOVA test \n",
    "f1,p1 = stats.f_oneway(np.array(ba_salary_array),np.array(ma_salary_array),np.array(do_salary_array))\n",
    "\n",
    "# print out the result of ANOVA testing\n",
    "print (\"ANOVA testing: f = %g  p = %g\" % (f1, p1))\n",
    "if p1 > 0.05:\n",
    "    print(\"The difference is not statistically significant, null hypothesis (H0)\")\n",
    "else:\n",
    "    print (\"The difference is statistically significant, alternate hypothesis (Ha)\")"
   ]
  },
  {
   "cell_type": "markdown",
   "metadata": {},
   "source": [
    "Explain rationale:\n",
    "\n",
    "For the three samples, we use ANOVA hypothesis testing. First create numpy array of these three education groups’ salaries. Then find the statistic value f and p value from results of one-way ANOVA test. The result shows f is 129.756 and p is 2.48e-56. Because p value is far smaller then 0.05, the difference between three education levels’ salary is statistically significant, and null hypothesis is rejected."
   ]
  },
  {
   "cell_type": "markdown",
   "metadata": {},
   "source": [
    "## Q 3.c"
   ]
  },
  {
   "cell_type": "code",
   "execution_count": 64,
   "metadata": {},
   "outputs": [
    {
     "data": {
      "image/png": "[encoded data removed]",
      "text/plain": [
       "<Figure size 720x432 with 1 Axes>"
      ]
     },
     "metadata": {
      "needs_background": "light"
     },
     "output_type": "display_data"
    },
    {
     "data": {
      "text/html": [
       "<div>\n",
       "<style scoped>\n",
       "    .dataframe tbody tr th:only-of-type {\n",
       "        vertical-align: middle;\n",
       "    }\n",
       "\n",
       "    .dataframe tbody tr th {\n",
       "        vertical-align: top;\n",
       "    }\n",
       "\n",
       "    .dataframe thead th {\n",
       "        text-align: right;\n",
       "    }\n",
       "</style>\n",
       "<table border=\"1\" class=\"dataframe\">\n",
       "  <thead>\n",
       "    <tr style=\"text-align: right;\">\n",
       "      <th></th>\n",
       "      <th>mean</th>\n",
       "      <th>standard deviation</th>\n",
       "    </tr>\n",
       "  </thead>\n",
       "  <tbody>\n",
       "    <tr>\n",
       "      <th>bootstrapped_Bachelor</th>\n",
       "      <td>35726.617657</td>\n",
       "      <td>1071.872676</td>\n",
       "    </tr>\n",
       "    <tr>\n",
       "      <th>bootstrapped_Master</th>\n",
       "      <td>52155.250256</td>\n",
       "      <td>970.695026</td>\n",
       "    </tr>\n",
       "    <tr>\n",
       "      <th>bootstrapped_Doctoral</th>\n",
       "      <td>68602.860885</td>\n",
       "      <td>2087.696402</td>\n",
       "    </tr>\n",
       "  </tbody>\n",
       "</table>\n",
       "</div>"
      ],
      "text/plain": [
       "                               mean  standard deviation\n",
       "bootstrapped_Bachelor  35726.617657         1071.872676\n",
       "bootstrapped_Master    52155.250256          970.695026\n",
       "bootstrapped_Doctoral  68602.860885         2087.696402"
      ]
     },
     "execution_count": 64,
     "metadata": {},
     "output_type": "execute_result"
    }
   ],
   "source": [
    "# create three education level dataframe with bootstrapping samples\n",
    "ba_salary_bootstrap = []\n",
    "ma_salary_bootstrap = []\n",
    "do_salary_bootstrap = []\n",
    "\n",
    "# create three education difference dataframe with bootstrapping samples\n",
    "salary_dif_ma_ba_bootstrap = []\n",
    "salary_dif_do_ma_bootstrap = []\n",
    "salary_dif_do_ba_bootstrap = []\n",
    "\n",
    "for i in range(1000): # for loop with range 1000\n",
    "    \n",
    "    # take random bootstrap sample with replacement from the original sample. The same size as the original sample.\n",
    "    ba_salary_avg = np.mean(ba_salary_array[np.random.randint(len(ba_salary_array),size = len(ba_salary_array))])\n",
    "    ma_salary_avg = np.mean(ma_salary_array[np.random.randint(len(ma_salary_array),size = len(ma_salary_array))])\n",
    "    do_salary_avg = np.mean(do_salary_array[np.random.randint(len(do_salary_array),size = len(do_salary_array))])\n",
    "    \n",
    "    # update the loop result in dataframe\n",
    "    ba_salary_bootstrap.append(ba_salary_avg)\n",
    "    ma_salary_bootstrap.append(ma_salary_avg)\n",
    "    do_salary_bootstrap.append(do_salary_avg)\n",
    "    \n",
    "    # take the three difference which between two boorstrap sample mean values                       \n",
    "    salary_dif_ma_ba = ma_salary_avg - ba_salary_avg\n",
    "    salary_dif_do_ma = do_salary_avg - ma_salary_avg\n",
    "    salary_dif_do_ba = do_salary_avg - ba_salary_avg\n",
    "    \n",
    "    # update the loop result in dataframe\n",
    "    salary_dif_ma_ba_bootstrap.append(salary_dif_ma_ba)\n",
    "    salary_dif_do_ma_bootstrap.append(salary_dif_do_ma)\n",
    "    salary_dif_do_ba_bootstrap.append(salary_dif_do_ba)\n",
    "\n",
    "# plot the salary bootstrapped distributions of three education levels\n",
    "plt.figure(figsize = (10,6))  \n",
    "plt.hist(ba_salary_bootstrap, label = 'Bachelor’s degree',bins=30)\n",
    "plt.hist(ma_salary_bootstrap, label = 'Master’s degree',bins=30)\n",
    "plt.hist(do_salary_bootstrap, label = 'Doctoral degree',bins=30)\n",
    "  \n",
    "plt.xlabel('mean salary')\n",
    "plt.ylabel('frequency')\n",
    "plt.title('salary bootstrapped distributions of education level')\n",
    "plt.legend()\n",
    "plt.show()\n",
    "std_mean2 = pd.DataFrame({\"mean\":[np.mean(ba_salary_bootstrap),np.mean(ma_salary_bootstrap),np.mean(do_salary_bootstrap)],\"standard deviation\":[np.std(ba_salary_bootstrap),np.std(ma_salary_bootstrap),np.std(do_salary_bootstrap)]},\n",
    "                         index = [\"bootstrapped_Bachelor\",\"bootstrapped_Master\", \"bootstrapped_Doctoral\"])\n",
    "std_mean2"
   ]
  },
  {
   "cell_type": "code",
   "execution_count": 65,
   "metadata": {},
   "outputs": [
    {
     "data": {
      "image/png": "[encoded data removed]",
      "text/plain": [
       "<Figure size 576x1080 with 3 Axes>"
      ]
     },
     "metadata": {
      "needs_background": "light"
     },
     "output_type": "display_data"
    },
    {
     "name": "stdout",
     "output_type": "stream",
     "text": [
      "mean value of the difference in ma & ba means: 16428.632599379598\n",
      "mean value of the difference in do & ma means: 16447.610628549664\n",
      "mean value of the difference in do & ba means: 32876.24322792926\n"
     ]
    }
   ],
   "source": [
    "# finding the difference in means (central limit theorem) \n",
    "\n",
    "# calsulate the number of bootstrapping dataset samples\n",
    "N_ba = len(ba_salary_bootstrap)\n",
    "N_ma = len(ma_salary_bootstrap)\n",
    "N_do = len(do_salary_bootstrap)\n",
    "\n",
    "# calculate the variance value of three degree groups\n",
    "variance_ba = np.var(ba_salary_bootstrap)\n",
    "variance_ma = np.var(ma_salary_bootstrap)\n",
    "variance_do = np.var(do_salary_bootstrap)\n",
    "\n",
    "# calculate the three standard deviation value between theae two different groups\n",
    "s1 = math.sqrt((variance_ba/N_ba) + (variance_ma/N_ma))\n",
    "s2 = math.sqrt((variance_do/N_do) + (variance_ma/N_ma))\n",
    "s3 = math.sqrt((variance_do/N_do) + (variance_ba/N_ba))\n",
    "\n",
    "# calculate the difference between means\n",
    "mu_ma_ba_dif = np.mean(ma_salary_bootstrap) - np.mean(ba_salary_bootstrap)\n",
    "mu_do_ma_dif = np.mean(do_salary_bootstrap) - np.mean(ma_salary_bootstrap)\n",
    "mu_do_ba_dif = np.mean(do_salary_bootstrap) - np.mean(ba_salary_bootstrap)\n",
    "\n",
    "# find the distribution range with 99.7% probability\n",
    "a = np.linspace(mu_ma_ba_dif - 3*s1, mu_ma_ba_dif + 3*s1)\n",
    "b = np.linspace(mu_do_ma_dif - 3*s2, mu_do_ma_dif + 3*s2)\n",
    "c = np.linspace(mu_do_ba_dif - 3*s3, mu_do_ba_dif + 3*s3)\n",
    "\n",
    "#Plot distribution of the difference in means\n",
    "\n",
    "plt.figure(figsize = (8,15))\n",
    "plt.subplot(3,1,1)\n",
    "plt.plot(x, stats.norm.pdf(a, mu_ma_ba_dif, s1))\n",
    "plt.xlabel('difference in means')\n",
    "plt.ylabel('frequency')\n",
    "plt.title('distribution of the difference in  master and bachelor means')\n",
    "\n",
    "plt.subplot(3,1,2)\n",
    "plt.plot(x, stats.norm.pdf(b, mu_do_ma_dif, s2))\n",
    "plt.xlabel('difference in means')\n",
    "plt.ylabel('frequency')\n",
    "plt.title('distribution of the difference in doctoral and master means')\n",
    "\n",
    "plt.subplot(3,1,3)\n",
    "plt.plot(x, stats.norm.pdf(c, mu_do_ba_dif, s3))\n",
    "plt.xlabel('difference in means')\n",
    "plt.ylabel('frequency')\n",
    "plt.title('distribution of the difference in doctoral and bachelor means')\n",
    "\n",
    "plt.show()\n",
    "\n",
    "print(\"mean value of the difference in ma & ba means:\",mu_ma_ba_dif)\n",
    "print(\"mean value of the difference in do & ma means:\",mu_do_ma_dif)\n",
    "print(\"mean value of the difference in do & ba means:\",mu_do_ba_dif)"
   ]
  },
  {
   "cell_type": "markdown",
   "metadata": {},
   "source": [
    "## Q 3.d"
   ]
  },
  {
   "cell_type": "code",
   "execution_count": 66,
   "metadata": {},
   "outputs": [
    {
     "name": "stdout",
     "output_type": "stream",
     "text": [
      "ANOVA testing: f = 125561  p = 0\n",
      "The difference is statistically significant, alternate hypothesis (Ha)\n"
     ]
    }
   ],
   "source": [
    "# create numpy array of these three education group's salary\n",
    "ba_salary_bootstrap_array = np.array(ba_salary_bootstrap)\n",
    "ma_salary_bootstrap_array = np.array(ma_salary_bootstrap)\n",
    "do_salary_bootstrap_array = np.array(do_salary_bootstrap)\n",
    "\n",
    "# get results of one way ANOVA test \n",
    "f2,p2 = stats.f_oneway(ba_salary_bootstrap_array,ma_salary_bootstrap_array,do_salary_bootstrap_array)\n",
    "#f2,p2 = stats.f_oneway(np.array(ba_salary_bootstrap),np.array(ma_salary_bootstrap),np.array(do_salary_bootstrap))\n",
    "\n",
    "# print out the result of ANOVA testing\n",
    "print (\"ANOVA testing: f = %g  p = %g\" % (f2, p2))\n",
    "if p2 > 0.05:\n",
    "    print(\"The difference is not statistically significant, null hypothesis (H0)\")\n",
    "else:\n",
    "    print (\"The difference is statistically significant, alternate hypothesis (Ha)\")"
   ]
  },
  {
   "cell_type": "markdown",
   "metadata": {},
   "source": [
    "the ANOVA testing result shows f value is 127947 and p value is 0, Because p value is far smaller then 0.05, the difference between three education level salary is statistically significant, and null hypothesis is rejected. For explain rationale, this t-test on the bootstrapped data shows higher statistic t value and lower p value. "
   ]
  },
  {
   "cell_type": "markdown",
   "metadata": {},
   "source": [
    "## Q 3.e"
   ]
  },
  {
   "cell_type": "markdown",
   "metadata": {},
   "source": [
    "Through the results of ANOVA testing and bootstrapped data ANOVA testing, all results show small p value which smaller then 0.05. Therefore, we can say the null hypothesis is rejected and should select the alternative hypothesis. The average salary difference between these three education levels is statistically significant.\n"
   ]
  }
 ],
 "metadata": {
  "kernelspec": {
   "display_name": "Python 3 (ipykernel)",
   "language": "python",
   "name": "python3"
  },
  "language_info": {
   "codemirror_mode": {
    "name": "ipython",
    "version": 3
   },
   "file_extension": ".py",
   "mimetype": "text/x-python",
   "name": "python",
   "nbconvert_exporter": "python",
   "pygments_lexer": "ipython3",
   "version": "3.9.12"
  }
 },
 "nbformat": 4,
 "nbformat_minor": 4
}
