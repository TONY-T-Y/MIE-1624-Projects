{
  "nbformat": 4,
  "nbformat_minor": 0,
  "metadata": {
    "kernelspec": {
      "display_name": "Python 3",
      "language": "python",
      "name": "python3"
    },
    "language_info": {
      "codemirror_mode": {
        "name": "ipython",
        "version": 3
      },
      "file_extension": ".py",
      "mimetype": "text/x-python",
      "name": "python",
      "nbconvert_exporter": "python",
      "pygments_lexer": "ipython3",
      "version": "3.8.5"
    },
    "colab": {
      "name": "notebook.ipynb",
      "provenance": [],
      "toc_visible": true
    }
  },
  "cells": [
    {
      "cell_type": "code",
      "metadata": {
        "id": "HinDrsDV4CRk"
      },
      "source": [
        "import os\n",
        "import pandas as pd\n",
        "import numpy as np\n",
        "from sys import platform"
      ],
      "execution_count": 1,
      "outputs": []
    },
    {
      "cell_type": "code",
      "metadata": {
        "id": "IZ--k6TboGlM",
        "colab": {
          "base_uri": "https://localhost:8080/"
        },
        "outputId": "2b9b4ae8-7c7c-4117-a901-e052118f3493"
      },
      "source": [
        "# You may need to restart runtime after the installation by the instruction\n",
        "!pip install spacytextblob"
      ],
      "execution_count": 2,
      "outputs": [
        {
          "output_type": "stream",
          "text": [
            "Requirement already satisfied: spacytextblob in /usr/local/lib/python3.7/dist-packages (0.1.7)\n",
            "Requirement already satisfied: spacy<3.0.0,>=2.3.2 in /usr/local/lib/python3.7/dist-packages (from spacytextblob) (2.3.5)\n",
            "Requirement already satisfied: textblob<0.16.0,>=0.15.3 in /usr/local/lib/python3.7/dist-packages (from spacytextblob) (0.15.3)\n",
            "Requirement already satisfied: cymem<2.1.0,>=2.0.2 in /usr/local/lib/python3.7/dist-packages (from spacy<3.0.0,>=2.3.2->spacytextblob) (2.0.5)\n",
            "Requirement already satisfied: preshed<3.1.0,>=3.0.2 in /usr/local/lib/python3.7/dist-packages (from spacy<3.0.0,>=2.3.2->spacytextblob) (3.0.5)\n",
            "Requirement already satisfied: requests<3.0.0,>=2.13.0 in /usr/local/lib/python3.7/dist-packages (from spacy<3.0.0,>=2.3.2->spacytextblob) (2.23.0)\n",
            "Requirement already satisfied: murmurhash<1.1.0,>=0.28.0 in /usr/local/lib/python3.7/dist-packages (from spacy<3.0.0,>=2.3.2->spacytextblob) (1.0.5)\n",
            "Requirement already satisfied: wasabi<1.1.0,>=0.4.0 in /usr/local/lib/python3.7/dist-packages (from spacy<3.0.0,>=2.3.2->spacytextblob) (0.8.2)\n",
            "Requirement already satisfied: srsly<1.1.0,>=1.0.2 in /usr/local/lib/python3.7/dist-packages (from spacy<3.0.0,>=2.3.2->spacytextblob) (1.0.5)\n",
            "Requirement already satisfied: tqdm<5.0.0,>=4.38.0 in /usr/local/lib/python3.7/dist-packages (from spacy<3.0.0,>=2.3.2->spacytextblob) (4.41.1)\n",
            "Requirement already satisfied: plac<1.2.0,>=0.9.6 in /usr/local/lib/python3.7/dist-packages (from spacy<3.0.0,>=2.3.2->spacytextblob) (1.1.3)\n",
            "Requirement already satisfied: blis<0.8.0,>=0.4.0 in /usr/local/lib/python3.7/dist-packages (from spacy<3.0.0,>=2.3.2->spacytextblob) (0.4.1)\n",
            "Requirement already satisfied: catalogue<1.1.0,>=0.0.7 in /usr/local/lib/python3.7/dist-packages (from spacy<3.0.0,>=2.3.2->spacytextblob) (1.0.0)\n",
            "Requirement already satisfied: setuptools in /usr/local/lib/python3.7/dist-packages (from spacy<3.0.0,>=2.3.2->spacytextblob) (54.1.2)\n",
            "Requirement already satisfied: thinc<7.5.0,>=7.4.1 in /usr/local/lib/python3.7/dist-packages (from spacy<3.0.0,>=2.3.2->spacytextblob) (7.4.5)\n",
            "Requirement already satisfied: numpy>=1.15.0 in /usr/local/lib/python3.7/dist-packages (from spacy<3.0.0,>=2.3.2->spacytextblob) (1.19.5)\n",
            "Requirement already satisfied: nltk>=3.1 in /usr/local/lib/python3.7/dist-packages (from textblob<0.16.0,>=0.15.3->spacytextblob) (3.2.5)\n",
            "Requirement already satisfied: idna<3,>=2.5 in /usr/local/lib/python3.7/dist-packages (from requests<3.0.0,>=2.13.0->spacy<3.0.0,>=2.3.2->spacytextblob) (2.10)\n",
            "Requirement already satisfied: certifi>=2017.4.17 in /usr/local/lib/python3.7/dist-packages (from requests<3.0.0,>=2.13.0->spacy<3.0.0,>=2.3.2->spacytextblob) (2020.12.5)\n",
            "Requirement already satisfied: chardet<4,>=3.0.2 in /usr/local/lib/python3.7/dist-packages (from requests<3.0.0,>=2.13.0->spacy<3.0.0,>=2.3.2->spacytextblob) (3.0.4)\n",
            "Requirement already satisfied: urllib3!=1.25.0,!=1.25.1,<1.26,>=1.21.1 in /usr/local/lib/python3.7/dist-packages (from requests<3.0.0,>=2.13.0->spacy<3.0.0,>=2.3.2->spacytextblob) (1.24.3)\n",
            "Requirement already satisfied: importlib-metadata>=0.20; python_version < \"3.8\" in /usr/local/lib/python3.7/dist-packages (from catalogue<1.1.0,>=0.0.7->spacy<3.0.0,>=2.3.2->spacytextblob) (3.7.2)\n",
            "Requirement already satisfied: six in /usr/local/lib/python3.7/dist-packages (from nltk>=3.1->textblob<0.16.0,>=0.15.3->spacytextblob) (1.15.0)\n",
            "Requirement already satisfied: zipp>=0.5 in /usr/local/lib/python3.7/dist-packages (from importlib-metadata>=0.20; python_version < \"3.8\"->catalogue<1.1.0,>=0.0.7->spacy<3.0.0,>=2.3.2->spacytextblob) (3.4.1)\n",
            "Requirement already satisfied: typing-extensions>=3.6.4; python_version < \"3.8\" in /usr/local/lib/python3.7/dist-packages (from importlib-metadata>=0.20; python_version < \"3.8\"->catalogue<1.1.0,>=0.0.7->spacy<3.0.0,>=2.3.2->spacytextblob) (3.7.4.3)\n"
          ],
          "name": "stdout"
        }
      ]
    },
    {
      "cell_type": "code",
      "metadata": {
        "id": "j8VjWQlOo3Z1",
        "colab": {
          "base_uri": "https://localhost:8080/"
        },
        "outputId": "a0fe0105-148a-4750-ed31-c7b2a6bdbfb8"
      },
      "source": [
        "!python -m spacy download en_core_web_sm"
      ],
      "execution_count": 3,
      "outputs": [
        {
          "output_type": "stream",
          "text": [
            "Requirement already satisfied: en_core_web_sm==2.3.1 from https://github.com/explosion/spacy-models/releases/download/en_core_web_sm-2.3.1/en_core_web_sm-2.3.1.tar.gz#egg=en_core_web_sm==2.3.1 in /usr/local/lib/python3.7/dist-packages (2.3.1)\n",
            "Requirement already satisfied: spacy<2.4.0,>=2.3.0 in /usr/local/lib/python3.7/dist-packages (from en_core_web_sm==2.3.1) (2.3.5)\n",
            "Requirement already satisfied: murmurhash<1.1.0,>=0.28.0 in /usr/local/lib/python3.7/dist-packages (from spacy<2.4.0,>=2.3.0->en_core_web_sm==2.3.1) (1.0.5)\n",
            "Requirement already satisfied: thinc<7.5.0,>=7.4.1 in /usr/local/lib/python3.7/dist-packages (from spacy<2.4.0,>=2.3.0->en_core_web_sm==2.3.1) (7.4.5)\n",
            "Requirement already satisfied: blis<0.8.0,>=0.4.0 in /usr/local/lib/python3.7/dist-packages (from spacy<2.4.0,>=2.3.0->en_core_web_sm==2.3.1) (0.4.1)\n",
            "Requirement already satisfied: setuptools in /usr/local/lib/python3.7/dist-packages (from spacy<2.4.0,>=2.3.0->en_core_web_sm==2.3.1) (54.1.2)\n",
            "Requirement already satisfied: numpy>=1.15.0 in /usr/local/lib/python3.7/dist-packages (from spacy<2.4.0,>=2.3.0->en_core_web_sm==2.3.1) (1.19.5)\n",
            "Requirement already satisfied: requests<3.0.0,>=2.13.0 in /usr/local/lib/python3.7/dist-packages (from spacy<2.4.0,>=2.3.0->en_core_web_sm==2.3.1) (2.23.0)\n",
            "Requirement already satisfied: preshed<3.1.0,>=3.0.2 in /usr/local/lib/python3.7/dist-packages (from spacy<2.4.0,>=2.3.0->en_core_web_sm==2.3.1) (3.0.5)\n",
            "Requirement already satisfied: tqdm<5.0.0,>=4.38.0 in /usr/local/lib/python3.7/dist-packages (from spacy<2.4.0,>=2.3.0->en_core_web_sm==2.3.1) (4.41.1)\n",
            "Requirement already satisfied: plac<1.2.0,>=0.9.6 in /usr/local/lib/python3.7/dist-packages (from spacy<2.4.0,>=2.3.0->en_core_web_sm==2.3.1) (1.1.3)\n",
            "Requirement already satisfied: wasabi<1.1.0,>=0.4.0 in /usr/local/lib/python3.7/dist-packages (from spacy<2.4.0,>=2.3.0->en_core_web_sm==2.3.1) (0.8.2)\n",
            "Requirement already satisfied: cymem<2.1.0,>=2.0.2 in /usr/local/lib/python3.7/dist-packages (from spacy<2.4.0,>=2.3.0->en_core_web_sm==2.3.1) (2.0.5)\n",
            "Requirement already satisfied: srsly<1.1.0,>=1.0.2 in /usr/local/lib/python3.7/dist-packages (from spacy<2.4.0,>=2.3.0->en_core_web_sm==2.3.1) (1.0.5)\n",
            "Requirement already satisfied: catalogue<1.1.0,>=0.0.7 in /usr/local/lib/python3.7/dist-packages (from spacy<2.4.0,>=2.3.0->en_core_web_sm==2.3.1) (1.0.0)\n",
            "Requirement already satisfied: idna<3,>=2.5 in /usr/local/lib/python3.7/dist-packages (from requests<3.0.0,>=2.13.0->spacy<2.4.0,>=2.3.0->en_core_web_sm==2.3.1) (2.10)\n",
            "Requirement already satisfied: chardet<4,>=3.0.2 in /usr/local/lib/python3.7/dist-packages (from requests<3.0.0,>=2.13.0->spacy<2.4.0,>=2.3.0->en_core_web_sm==2.3.1) (3.0.4)\n",
            "Requirement already satisfied: urllib3!=1.25.0,!=1.25.1,<1.26,>=1.21.1 in /usr/local/lib/python3.7/dist-packages (from requests<3.0.0,>=2.13.0->spacy<2.4.0,>=2.3.0->en_core_web_sm==2.3.1) (1.24.3)\n",
            "Requirement already satisfied: certifi>=2017.4.17 in /usr/local/lib/python3.7/dist-packages (from requests<3.0.0,>=2.13.0->spacy<2.4.0,>=2.3.0->en_core_web_sm==2.3.1) (2020.12.5)\n",
            "Requirement already satisfied: importlib-metadata>=0.20; python_version < \"3.8\" in /usr/local/lib/python3.7/dist-packages (from catalogue<1.1.0,>=0.0.7->spacy<2.4.0,>=2.3.0->en_core_web_sm==2.3.1) (3.7.2)\n",
            "Requirement already satisfied: zipp>=0.5 in /usr/local/lib/python3.7/dist-packages (from importlib-metadata>=0.20; python_version < \"3.8\"->catalogue<1.1.0,>=0.0.7->spacy<2.4.0,>=2.3.0->en_core_web_sm==2.3.1) (3.4.1)\n",
            "Requirement already satisfied: typing-extensions>=3.6.4; python_version < \"3.8\" in /usr/local/lib/python3.7/dist-packages (from importlib-metadata>=0.20; python_version < \"3.8\"->catalogue<1.1.0,>=0.0.7->spacy<2.4.0,>=2.3.0->en_core_web_sm==2.3.1) (3.7.4.3)\n",
            "\u001b[38;5;2m✔ Download and installation successful\u001b[0m\n",
            "You can now load the model via spacy.load('en_core_web_sm')\n"
          ],
          "name": "stdout"
        }
      ]
    },
    {
      "cell_type": "code",
      "metadata": {
        "id": "CDB4PQrY4CR2"
      },
      "source": [
        "# train_zip = 'train.zip'\n",
        "# test_zip  = 'test.zip'\n",
        "# train_file = 'train.csv'\n",
        "# test_file = 'test.csv'"
      ],
      "execution_count": 4,
      "outputs": []
    },
    {
      "cell_type": "code",
      "metadata": {
        "id": "b7QUxZpq4CR2"
      },
      "source": [
        "# def is_colab():\n",
        "#     return 'google.colab' in str(get_ipython())\n",
        "\n",
        "# def check_file(filename):\n",
        "#     if not os.path.exists(filename):\n",
        "#         if is_colab():\n",
        "#             from google.colab import files\n",
        "#             print(f\"Please upload {filename} file\")\n",
        "#             uploaded = files.upload()\n",
        "#         else:\n",
        "#             print(f\"{filename} not exist, this notebook require {filename} to run\")\n",
        "#     else:\n",
        "#         print(f\"{filename} ready\")\n",
        "\n",
        "# def unzip(src, dest):\n",
        "#     if not os.path.exists(dest):\n",
        "#         if platform == \"linux\" or platform == \"linux2\":\n",
        "#             !unzip {src} \n",
        "#         elif platform == \"win32\":\n",
        "#             !tar -xf {src}\n",
        "#         else:\n",
        "#             print(f\"Please unzip {src} manually\")\n",
        "\n",
        "# check_file(train_zip)\n",
        "# check_file(test_zip)\n",
        "\n",
        "# # System check\n",
        "# # Unzip data files if not already exist\n",
        "# unzip(train_zip, train_file)\n",
        "# unzip(test_zip, test_file)"
      ],
      "execution_count": 5,
      "outputs": []
    },
    {
      "cell_type": "code",
      "metadata": {
        "id": "kRefyIY5lcvE"
      },
      "source": [
        "train_file = \"/content/drive/MyDrive/Colab Notebooks/train.csv\"\n",
        "test_file = \"/content/drive/MyDrive/Colab Notebooks/test.csv\""
      ],
      "execution_count": 6,
      "outputs": []
    },
    {
      "cell_type": "code",
      "metadata": {
        "id": "SdR72eUn4CR3",
        "colab": {
          "base_uri": "https://localhost:8080/",
          "height": 203
        },
        "outputId": "5f111128-5381-4715-a843-33e18b81dd5c"
      },
      "source": [
        "train_df, test_df = pd.read_csv(train_file), pd.read_csv(test_file)\n",
        "train_df.head()"
      ],
      "execution_count": 7,
      "outputs": [
        {
          "output_type": "execute_result",
          "data": {
            "text/html": [
              "<div>\n",
              "<style scoped>\n",
              "    .dataframe tbody tr th:only-of-type {\n",
              "        vertical-align: middle;\n",
              "    }\n",
              "\n",
              "    .dataframe tbody tr th {\n",
              "        vertical-align: top;\n",
              "    }\n",
              "\n",
              "    .dataframe thead th {\n",
              "        text-align: right;\n",
              "    }\n",
              "</style>\n",
              "<table border=\"1\" class=\"dataframe\">\n",
              "  <thead>\n",
              "    <tr style=\"text-align: right;\">\n",
              "      <th></th>\n",
              "      <th>overall</th>\n",
              "      <th>reviewTime</th>\n",
              "      <th>reviewerID</th>\n",
              "      <th>reviewText</th>\n",
              "      <th>summary</th>\n",
              "      <th>unixReviewTime</th>\n",
              "      <th>category</th>\n",
              "      <th>price</th>\n",
              "      <th>itemID</th>\n",
              "      <th>reviewHash</th>\n",
              "      <th>image</th>\n",
              "    </tr>\n",
              "  </thead>\n",
              "  <tbody>\n",
              "    <tr>\n",
              "      <th>0</th>\n",
              "      <td>5.0</td>\n",
              "      <td>08 26, 2014</td>\n",
              "      <td>u92990698</td>\n",
              "      <td>A contemporary jazz and soul performer who's m...</td>\n",
              "      <td>\" CLASSIQUE \"</td>\n",
              "      <td>1409011200</td>\n",
              "      <td>Jazz</td>\n",
              "      <td>$8.40</td>\n",
              "      <td>p23649501</td>\n",
              "      <td>3856620</td>\n",
              "      <td>NaN</td>\n",
              "    </tr>\n",
              "    <tr>\n",
              "      <th>1</th>\n",
              "      <td>5.0</td>\n",
              "      <td>05 11, 2003</td>\n",
              "      <td>u36200649</td>\n",
              "      <td>Very good idea to put both the 'pop' and 'orch...</td>\n",
              "      <td>Exceeded my Expectations - This album RAWKS!</td>\n",
              "      <td>1052611200</td>\n",
              "      <td>Alternative Rock</td>\n",
              "      <td>$10.98</td>\n",
              "      <td>p58458313</td>\n",
              "      <td>56086781</td>\n",
              "      <td>NaN</td>\n",
              "    </tr>\n",
              "    <tr>\n",
              "      <th>2</th>\n",
              "      <td>5.0</td>\n",
              "      <td>12 5, 2017</td>\n",
              "      <td>u10721702</td>\n",
              "      <td>This is a great collection of Carole King's so...</td>\n",
              "      <td>A Must-have for Carole King Fans</td>\n",
              "      <td>1512432000</td>\n",
              "      <td>Pop</td>\n",
              "      <td>$5.99</td>\n",
              "      <td>p97027626</td>\n",
              "      <td>55852154</td>\n",
              "      <td>NaN</td>\n",
              "    </tr>\n",
              "    <tr>\n",
              "      <th>3</th>\n",
              "      <td>5.0</td>\n",
              "      <td>09 24, 2013</td>\n",
              "      <td>u86003775</td>\n",
              "      <td>The is album is a brilliant piece of Jazz fusi...</td>\n",
              "      <td>A Master piece!</td>\n",
              "      <td>1379980800</td>\n",
              "      <td>Jazz</td>\n",
              "      <td>$14.64</td>\n",
              "      <td>p43167086</td>\n",
              "      <td>43228100</td>\n",
              "      <td>NaN</td>\n",
              "    </tr>\n",
              "    <tr>\n",
              "      <th>4</th>\n",
              "      <td>5.0</td>\n",
              "      <td>01 14, 2015</td>\n",
              "      <td>u25672859</td>\n",
              "      <td>Waited a LONG time for this DVD to be released...</td>\n",
              "      <td>especially if you like concert videos</td>\n",
              "      <td>1421193600</td>\n",
              "      <td>Alternative Rock</td>\n",
              "      <td>$9.92</td>\n",
              "      <td>p94494236</td>\n",
              "      <td>54425467</td>\n",
              "      <td>NaN</td>\n",
              "    </tr>\n",
              "  </tbody>\n",
              "</table>\n",
              "</div>"
            ],
            "text/plain": [
              "   overall   reviewTime reviewerID  ...     itemID reviewHash  image\n",
              "0      5.0  08 26, 2014  u92990698  ...  p23649501    3856620    NaN\n",
              "1      5.0  05 11, 2003  u36200649  ...  p58458313   56086781    NaN\n",
              "2      5.0   12 5, 2017  u10721702  ...  p97027626   55852154    NaN\n",
              "3      5.0  09 24, 2013  u86003775  ...  p43167086   43228100    NaN\n",
              "4      5.0  01 14, 2015  u25672859  ...  p94494236   54425467    NaN\n",
              "\n",
              "[5 rows x 11 columns]"
            ]
          },
          "metadata": {
            "tags": []
          },
          "execution_count": 7
        }
      ]
    },
    {
      "cell_type": "code",
      "metadata": {
        "id": "oGkJkeA24CR4",
        "colab": {
          "base_uri": "https://localhost:8080/",
          "height": 203
        },
        "outputId": "26556193-43c6-4348-97db-19d05707bbf7"
      },
      "source": [
        "test_df.head()"
      ],
      "execution_count": 8,
      "outputs": [
        {
          "output_type": "execute_result",
          "data": {
            "text/html": [
              "<div>\n",
              "<style scoped>\n",
              "    .dataframe tbody tr th:only-of-type {\n",
              "        vertical-align: middle;\n",
              "    }\n",
              "\n",
              "    .dataframe tbody tr th {\n",
              "        vertical-align: top;\n",
              "    }\n",
              "\n",
              "    .dataframe thead th {\n",
              "        text-align: right;\n",
              "    }\n",
              "</style>\n",
              "<table border=\"1\" class=\"dataframe\">\n",
              "  <thead>\n",
              "    <tr style=\"text-align: right;\">\n",
              "      <th></th>\n",
              "      <th>reviewTime</th>\n",
              "      <th>reviewerID</th>\n",
              "      <th>reviewText</th>\n",
              "      <th>summary</th>\n",
              "      <th>unixReviewTime</th>\n",
              "      <th>category</th>\n",
              "      <th>price</th>\n",
              "      <th>itemID</th>\n",
              "      <th>reviewHash</th>\n",
              "      <th>image</th>\n",
              "    </tr>\n",
              "  </thead>\n",
              "  <tbody>\n",
              "    <tr>\n",
              "      <th>0</th>\n",
              "      <td>02 11, 2017</td>\n",
              "      <td>u04140621</td>\n",
              "      <td>ok</td>\n",
              "      <td>Five Stars</td>\n",
              "      <td>1486771200</td>\n",
              "      <td>Pop</td>\n",
              "      <td>$31.20</td>\n",
              "      <td>p65721979</td>\n",
              "      <td>98944233</td>\n",
              "      <td>NaN</td>\n",
              "    </tr>\n",
              "    <tr>\n",
              "      <th>1</th>\n",
              "      <td>01 29, 2018</td>\n",
              "      <td>u74766187</td>\n",
              "      <td>The 1955 and 1958 sets alone are worth the pur...</td>\n",
              "      <td>Buy It For the 1955 Set With Monk!</td>\n",
              "      <td>1517184000</td>\n",
              "      <td>Jazz</td>\n",
              "      <td>$34.04</td>\n",
              "      <td>p87809670</td>\n",
              "      <td>33903910</td>\n",
              "      <td>NaN</td>\n",
              "    </tr>\n",
              "    <tr>\n",
              "      <th>2</th>\n",
              "      <td>08 29, 2005</td>\n",
              "      <td>u31689638</td>\n",
              "      <td>Mary J Blige is someone most people know of. S...</td>\n",
              "      <td>Mary's excellent debut! Classic!</td>\n",
              "      <td>1125273600</td>\n",
              "      <td>Pop</td>\n",
              "      <td>$1.72</td>\n",
              "      <td>p52702240</td>\n",
              "      <td>35386470</td>\n",
              "      <td>NaN</td>\n",
              "    </tr>\n",
              "    <tr>\n",
              "      <th>3</th>\n",
              "      <td>11 2, 2015</td>\n",
              "      <td>u35613516</td>\n",
              "      <td>Very good satch album</td>\n",
              "      <td>Four Stars</td>\n",
              "      <td>1446422400</td>\n",
              "      <td>Pop</td>\n",
              "      <td>$10.99</td>\n",
              "      <td>p01314374</td>\n",
              "      <td>12404766</td>\n",
              "      <td>NaN</td>\n",
              "    </tr>\n",
              "    <tr>\n",
              "      <th>4</th>\n",
              "      <td>01 3, 2012</td>\n",
              "      <td>u93320378</td>\n",
              "      <td>Well there are hundreds of Christmas anthologi...</td>\n",
              "      <td>CD lives up to its name</td>\n",
              "      <td>1325548800</td>\n",
              "      <td>Alternative Rock</td>\n",
              "      <td>$7.98</td>\n",
              "      <td>p84396269</td>\n",
              "      <td>68253688</td>\n",
              "      <td>NaN</td>\n",
              "    </tr>\n",
              "  </tbody>\n",
              "</table>\n",
              "</div>"
            ],
            "text/plain": [
              "    reviewTime reviewerID  ... reviewHash image\n",
              "0  02 11, 2017  u04140621  ...   98944233   NaN\n",
              "1  01 29, 2018  u74766187  ...   33903910   NaN\n",
              "2  08 29, 2005  u31689638  ...   35386470   NaN\n",
              "3   11 2, 2015  u35613516  ...   12404766   NaN\n",
              "4   01 3, 2012  u93320378  ...   68253688   NaN\n",
              "\n",
              "[5 rows x 10 columns]"
            ]
          },
          "metadata": {
            "tags": []
          },
          "execution_count": 8
        }
      ]
    },
    {
      "cell_type": "code",
      "metadata": {
        "id": "Zu-2rIalaAWw",
        "colab": {
          "base_uri": "https://localhost:8080/"
        },
        "outputId": "8867d16a-c684-4f67-87e4-9247e3fe4527"
      },
      "source": [
        "print(f'training set shape: {train_df.shape}')\n",
        "print(f'testing set shape: {test_df.shape}')"
      ],
      "execution_count": 9,
      "outputs": [
        {
          "output_type": "stream",
          "text": [
            "training set shape: (150000, 11)\n",
            "testing set shape: (20000, 10)\n"
          ],
          "name": "stdout"
        }
      ]
    },
    {
      "cell_type": "code",
      "metadata": {
        "id": "0xM3Hc9onaHF",
        "colab": {
          "base_uri": "https://localhost:8080/"
        },
        "outputId": "77877986-a2aa-49c0-8d76-1ca132dabb10"
      },
      "source": [
        "print(f'Number of reviewText nan in training set: {train_df.reviewText.isna().sum()}')\n",
        "print(f'Number of reviewText nan in testing set: {test_df.reviewText.isna().sum()}')"
      ],
      "execution_count": 10,
      "outputs": [
        {
          "output_type": "stream",
          "text": [
            "Number of reviewText nan in training set: 28\n",
            "Number of reviewText nan in testing set: 3\n"
          ],
          "name": "stdout"
        }
      ]
    },
    {
      "cell_type": "code",
      "metadata": {
        "id": "PYZOYZWjaKdb"
      },
      "source": [
        "train_df.dropna(axis=0, subset=['reviewText'], inplace=True)\n",
        "test_df.dropna(axis=0, subset=['reviewText'], inplace=True)"
      ],
      "execution_count": 11,
      "outputs": []
    },
    {
      "cell_type": "markdown",
      "metadata": {
        "id": "WjIDCaYg7xhq"
      },
      "source": [
        "# Preprocess reviewText using NLP"
      ]
    },
    {
      "cell_type": "code",
      "metadata": {
        "id": "XwUZ3OGU7wys"
      },
      "source": [
        "import spacy\n",
        "import html\n",
        "import re\n",
        "from spacytextblob.spacytextblob import SpacyTextBlob\n",
        "from tqdm import tqdm\n",
        "\n",
        "nlp = spacy.load('en_core_web_sm')\n",
        "sentencizer = nlp.create_pipe(\"sentencizer\")\n",
        "spacy_text_blob = SpacyTextBlob()\n",
        "nlp.add_pipe(spacy_text_blob)\n",
        "nlp.add_pipe(sentencizer)\n",
        "all_stopwords = nlp.Defaults.stop_words\n",
        "\n",
        "\n",
        "\n",
        "def cleanhtml(raw_html):\n",
        "  cleanr = re.compile('/<[^>]+>/')\n",
        "  cleantext = re.sub(cleanr, '', raw_html)\n",
        "  return cleantext\n",
        "\n",
        "def clean(review):\n",
        "  modReview = review\n",
        "  # remove html tags and attributes\n",
        "  modReview = cleanhtml(review)\n",
        "  # replace newlines with spaces\n",
        "  modReview = modReview.replace(\"\\n\", \" \").replace(\"\\r\", \" \")\n",
        "  # unescape html\n",
        "  modReview = html.unescape(modReview)\n",
        "  # remove URLs\n",
        "  # reference: https://stackoverflow.com/questions/3809401/what-is-a-good-regular-expression-to-match-a-url\n",
        "  modReview = re.sub(r\"https?:\\/\\/(www\\.)?[-a-zA-Z0-9@:%._\\+~#=]{1,256}\\.[a-zA-Z0-9()]{1,6}\\b([-a-zA-Z0-9()@:%_\\+.~#?&//=]*)\", \"\", modReview)\n",
        "  # lower case\n",
        "  modReview = modReview.lower()\n",
        "  # remove duplicate spaces\n",
        "  modReview = \" \".join(modReview.split())\n",
        "  return modReview\n",
        "\n",
        "def preproc_reviews(nlp, reviews):\n",
        "  preproced_reviews = []\n",
        "  polarities = []\n",
        "  subjectivities = []\n",
        "  # With as many processes as CPUs (use with caution!)\n",
        "  for doc in tqdm(nlp.pipe(reviews, n_process=-1), mininterval=300):\n",
        "    preproced_review = \"\"\n",
        "    polarities.append(doc._.sentiment.polarity)\n",
        "    subjectivities.append(doc._.sentiment.subjectivity)\n",
        "\n",
        "    if len(doc.text) > 0:\n",
        "      for sent in doc.sents:\n",
        "        wordsList = []\n",
        "        for token in sent:\n",
        "          if len(token.text.strip()) != 0:\n",
        "            # tagging\n",
        "            #    * Write \"/POS\" after each token.\n",
        "            tag = token.tag_\n",
        "\n",
        "            #lemmatization\n",
        "            if token.lemma_[0] == '-' and token.text[0] != '-':\n",
        "                lemma = token.text\n",
        "            else:\n",
        "                lemma = token.lemma_\n",
        "            \n",
        "            # remove stop words\n",
        "            if not lemma in all_stopwords:\n",
        "              wordsList.append(lemma + \"/\" + tag)\n",
        "\n",
        "        #    * Split tokens with spaces.\n",
        "        sent = \" \".join(wordsList)\n",
        "\n",
        "        #    * Insert period between sentences.\n",
        "        if sent and sent[-1] != '.':\n",
        "            sent += '.'\n",
        "\n",
        "        preproced_review += sent\n",
        "        #    * Insert space between sentences.\n",
        "        preproced_review += \" \"\n",
        "      preproced_review = clean(preproced_review)\n",
        "    preproced_reviews.append(preproced_review)\n",
        "  return preproced_reviews, polarities, subjectivities"
      ],
      "execution_count": 26,
      "outputs": []
    },
    {
      "cell_type": "code",
      "metadata": {
        "id": "vyNEVUMGzFtA",
        "colab": {
          "base_uri": "https://localhost:8080/"
        },
        "outputId": "b8facd52-3509-473c-9c14-1a127eb272be"
      },
      "source": [
        "preproced_reviews, polarities, subjectivities = pd.Series(preproc_reviews(nlp, train_df['reviewText']))"
      ],
      "execution_count": 27,
      "outputs": [
        {
          "output_type": "stream",
          "text": [
            "\n",
            "\n",
            "0it [00:00, ?it/s]\u001b[A\u001b[A\n",
            "\n",
            "11184it [05:00, 37.28it/s]\u001b[A\u001b[A\n",
            "\n",
            "11184it [05:18, 37.28it/s]\u001b[A\u001b[A\n",
            "\n",
            "24445it [10:00, 39.12it/s]\u001b[A\u001b[A\n",
            "\n",
            "24445it [10:19, 39.12it/s]\u001b[A\u001b[A\n",
            "\n",
            "37610it [15:00, 40.43it/s]\u001b[A\u001b[A\n",
            "\n",
            "37610it [15:19, 40.43it/s]\u001b[A\u001b[A\n",
            "\n",
            "51182it [20:00, 41.76it/s]\u001b[A\u001b[A\n",
            "\n",
            "51182it [20:19, 41.76it/s]\u001b[A\u001b[A\n",
            "\n",
            "64028it [25:00, 42.07it/s]\u001b[A\u001b[A\n",
            "\n",
            "64028it [25:19, 42.07it/s]\u001b[A\u001b[A\n",
            "\n",
            "77209it [30:00, 42.61it/s]\u001b[A\u001b[A\n",
            "\n",
            "77209it [30:19, 42.61it/s]\u001b[A\u001b[A\n",
            "\n",
            "90031it [35:00, 42.65it/s]\u001b[A\u001b[A\n",
            "\n",
            "90031it [35:20, 42.65it/s]\u001b[A\u001b[A\n",
            "\n",
            "103376it [40:00, 43.18it/s]\u001b[A\u001b[A\n",
            "\n",
            "103376it [40:10, 43.18it/s]\u001b[A\u001b[A\n",
            "\n",
            "116213it [45:00, 43.06it/s]\u001b[A\u001b[A\n",
            "\n",
            "116213it [45:10, 43.06it/s]\u001b[A\u001b[A\n",
            "\n",
            "129472it [50:00, 43.40it/s]\u001b[A\u001b[A\n",
            "\n",
            "129472it [50:10, 43.40it/s]\u001b[A\u001b[A\n",
            "\n",
            "142341it [55:00, 43.24it/s]\u001b[A\u001b[A\n",
            "\n",
            "149972it [57:30, 43.46it/s]\n"
          ],
          "name": "stderr"
        }
      ]
    },
    {
      "cell_type": "code",
      "metadata": {
        "id": "4QNa_1F9Ar3o"
      },
      "source": [
        "train_df['preproced_text'], train_df['polarities'], train_df['subjectivities'] = preproced_reviews, polarities, subjectivities"
      ],
      "execution_count": 28,
      "outputs": []
    },
    {
      "cell_type": "code",
      "metadata": {
        "id": "5xYzo6PxA2V7",
        "colab": {
          "base_uri": "https://localhost:8080/"
        },
        "outputId": "ce390343-e0fd-4d3b-8b2c-b250364e1f25"
      },
      "source": [
        "train_df['preproced_text'].isna().sum()"
      ],
      "execution_count": 29,
      "outputs": [
        {
          "output_type": "execute_result",
          "data": {
            "text/plain": [
              "0"
            ]
          },
          "metadata": {
            "tags": []
          },
          "execution_count": 29
        }
      ]
    },
    {
      "cell_type": "code",
      "metadata": {
        "id": "jBGri3kqmPjt",
        "colab": {
          "base_uri": "https://localhost:8080/",
          "height": 588
        },
        "outputId": "3427d029-6121-4f60-8c5f-45fbbfa09cb6"
      },
      "source": [
        "train_df"
      ],
      "execution_count": 30,
      "outputs": [
        {
          "output_type": "execute_result",
          "data": {
            "text/html": [
              "<div>\n",
              "<style scoped>\n",
              "    .dataframe tbody tr th:only-of-type {\n",
              "        vertical-align: middle;\n",
              "    }\n",
              "\n",
              "    .dataframe tbody tr th {\n",
              "        vertical-align: top;\n",
              "    }\n",
              "\n",
              "    .dataframe thead th {\n",
              "        text-align: right;\n",
              "    }\n",
              "</style>\n",
              "<table border=\"1\" class=\"dataframe\">\n",
              "  <thead>\n",
              "    <tr style=\"text-align: right;\">\n",
              "      <th></th>\n",
              "      <th>overall</th>\n",
              "      <th>reviewTime</th>\n",
              "      <th>reviewerID</th>\n",
              "      <th>reviewText</th>\n",
              "      <th>summary</th>\n",
              "      <th>unixReviewTime</th>\n",
              "      <th>category</th>\n",
              "      <th>price</th>\n",
              "      <th>itemID</th>\n",
              "      <th>reviewHash</th>\n",
              "      <th>image</th>\n",
              "      <th>preproced_text</th>\n",
              "      <th>polarities</th>\n",
              "      <th>subjectivities</th>\n",
              "    </tr>\n",
              "  </thead>\n",
              "  <tbody>\n",
              "    <tr>\n",
              "      <th>0</th>\n",
              "      <td>5.0</td>\n",
              "      <td>08 26, 2014</td>\n",
              "      <td>u92990698</td>\n",
              "      <td>A contemporary jazz and soul performer who's m...</td>\n",
              "      <td>\" CLASSIQUE \"</td>\n",
              "      <td>1409011200</td>\n",
              "      <td>Jazz</td>\n",
              "      <td>$8.40</td>\n",
              "      <td>p23649501</td>\n",
              "      <td>3856620</td>\n",
              "      <td>NaN</td>\n",
              "      <td>contemporary/jj jazz/nn soul/nn performer/jj -...</td>\n",
              "      <td>0.229849</td>\n",
              "      <td>0.426437</td>\n",
              "    </tr>\n",
              "    <tr>\n",
              "      <th>1</th>\n",
              "      <td>5.0</td>\n",
              "      <td>05 11, 2003</td>\n",
              "      <td>u36200649</td>\n",
              "      <td>Very good idea to put both the 'pop' and 'orch...</td>\n",
              "      <td>Exceeded my Expectations - This album RAWKS!</td>\n",
              "      <td>1052611200</td>\n",
              "      <td>Alternative Rock</td>\n",
              "      <td>$10.98</td>\n",
              "      <td>p58458313</td>\n",
              "      <td>56086781</td>\n",
              "      <td>NaN</td>\n",
              "      <td>good/jj idea/nn '/`` pop/nn '/'' '/`` orchestr...</td>\n",
              "      <td>0.280937</td>\n",
              "      <td>0.460303</td>\n",
              "    </tr>\n",
              "    <tr>\n",
              "      <th>2</th>\n",
              "      <td>5.0</td>\n",
              "      <td>12 5, 2017</td>\n",
              "      <td>u10721702</td>\n",
              "      <td>This is a great collection of Carole King's so...</td>\n",
              "      <td>A Must-have for Carole King Fans</td>\n",
              "      <td>1512432000</td>\n",
              "      <td>Pop</td>\n",
              "      <td>$5.99</td>\n",
              "      <td>p97027626</td>\n",
              "      <td>55852154</td>\n",
              "      <td>NaN</td>\n",
              "      <td>great/jj collection/nn carole/nnp king/nnp son...</td>\n",
              "      <td>0.800000</td>\n",
              "      <td>0.750000</td>\n",
              "    </tr>\n",
              "    <tr>\n",
              "      <th>3</th>\n",
              "      <td>5.0</td>\n",
              "      <td>09 24, 2013</td>\n",
              "      <td>u86003775</td>\n",
              "      <td>The is album is a brilliant piece of Jazz fusi...</td>\n",
              "      <td>A Master piece!</td>\n",
              "      <td>1379980800</td>\n",
              "      <td>Jazz</td>\n",
              "      <td>$14.64</td>\n",
              "      <td>p43167086</td>\n",
              "      <td>43228100</td>\n",
              "      <td>NaN</td>\n",
              "      <td>album/nn brilliant/jj piece/nn jazz/nnp fusion...</td>\n",
              "      <td>0.680208</td>\n",
              "      <td>0.800000</td>\n",
              "    </tr>\n",
              "    <tr>\n",
              "      <th>4</th>\n",
              "      <td>5.0</td>\n",
              "      <td>01 14, 2015</td>\n",
              "      <td>u25672859</td>\n",
              "      <td>Waited a LONG time for this DVD to be released...</td>\n",
              "      <td>especially if you like concert videos</td>\n",
              "      <td>1421193600</td>\n",
              "      <td>Alternative Rock</td>\n",
              "      <td>$9.92</td>\n",
              "      <td>p94494236</td>\n",
              "      <td>54425467</td>\n",
              "      <td>NaN</td>\n",
              "      <td>wait/vbd long/jj time/nn dvd/nn release/vbn ./...</td>\n",
              "      <td>0.129478</td>\n",
              "      <td>0.440930</td>\n",
              "    </tr>\n",
              "    <tr>\n",
              "      <th>...</th>\n",
              "      <td>...</td>\n",
              "      <td>...</td>\n",
              "      <td>...</td>\n",
              "      <td>...</td>\n",
              "      <td>...</td>\n",
              "      <td>...</td>\n",
              "      <td>...</td>\n",
              "      <td>...</td>\n",
              "      <td>...</td>\n",
              "      <td>...</td>\n",
              "      <td>...</td>\n",
              "      <td>...</td>\n",
              "      <td>...</td>\n",
              "      <td>...</td>\n",
              "    </tr>\n",
              "    <tr>\n",
              "      <th>149995</th>\n",
              "      <td>5.0</td>\n",
              "      <td>09 12, 2013</td>\n",
              "      <td>u29136602</td>\n",
              "      <td>There is just something about Wesley's voice t...</td>\n",
              "      <td>Just right.</td>\n",
              "      <td>1378944000</td>\n",
              "      <td>Alternative Rock</td>\n",
              "      <td>$9.49</td>\n",
              "      <td>p26326919</td>\n",
              "      <td>90575108</td>\n",
              "      <td>NaN</td>\n",
              "      <td>wesley/nnp voice/nn swoon/nn little/jj bit/nn ...</td>\n",
              "      <td>0.195663</td>\n",
              "      <td>0.553061</td>\n",
              "    </tr>\n",
              "    <tr>\n",
              "      <th>149996</th>\n",
              "      <td>5.0</td>\n",
              "      <td>05 15, 2016</td>\n",
              "      <td>u51715193</td>\n",
              "      <td>How many recordings of Verdis Requiem do you o...</td>\n",
              "      <td>Being there  in vibrant immediacy of performan...</td>\n",
              "      <td>1463270400</td>\n",
              "      <td>Classical</td>\n",
              "      <td>$14.83</td>\n",
              "      <td>p69247882</td>\n",
              "      <td>74425587</td>\n",
              "      <td>NaN</td>\n",
              "      <td>recording/nns verdis/nnp requiem/nnp ?/. -/hyp...</td>\n",
              "      <td>0.263781</td>\n",
              "      <td>0.590520</td>\n",
              "    </tr>\n",
              "    <tr>\n",
              "      <th>149997</th>\n",
              "      <td>5.0</td>\n",
              "      <td>06 13, 2004</td>\n",
              "      <td>u28696060</td>\n",
              "      <td>....their best overall album.  After the revis...</td>\n",
              "      <td>Creative rebirth and possibly....</td>\n",
              "      <td>1087084800</td>\n",
              "      <td>Alternative Rock</td>\n",
              "      <td>$18.86</td>\n",
              "      <td>p07028930</td>\n",
              "      <td>20399056</td>\n",
              "      <td>NaN</td>\n",
              "      <td>..../nfp good/jjs overall/jj album/nn ./. revi...</td>\n",
              "      <td>0.171429</td>\n",
              "      <td>0.457143</td>\n",
              "    </tr>\n",
              "    <tr>\n",
              "      <th>149998</th>\n",
              "      <td>5.0</td>\n",
              "      <td>06 27, 2012</td>\n",
              "      <td>u04925906</td>\n",
              "      <td>Believe it or not, once upon a time, artists l...</td>\n",
              "      <td>Once Upon A Time</td>\n",
              "      <td>1340755200</td>\n",
              "      <td>Pop</td>\n",
              "      <td>$19.99</td>\n",
              "      <td>p38606785</td>\n",
              "      <td>5931588</td>\n",
              "      <td>NaN</td>\n",
              "      <td>believe/vb ,/, time/nn ,/, artist/nns like/in ...</td>\n",
              "      <td>0.095939</td>\n",
              "      <td>0.482133</td>\n",
              "    </tr>\n",
              "    <tr>\n",
              "      <th>149999</th>\n",
              "      <td>5.0</td>\n",
              "      <td>03 6, 2000</td>\n",
              "      <td>u79459462</td>\n",
              "      <td>MoKenStef's album is a must have for those who...</td>\n",
              "      <td>An intense album with creativity!</td>\n",
              "      <td>952300800</td>\n",
              "      <td>Pop</td>\n",
              "      <td>$9.99</td>\n",
              "      <td>p07495887</td>\n",
              "      <td>90305896</td>\n",
              "      <td>NaN</td>\n",
              "      <td>mokenstef/nnp album/nn wanna/nn mellow/vbp chi...</td>\n",
              "      <td>0.367273</td>\n",
              "      <td>0.730909</td>\n",
              "    </tr>\n",
              "  </tbody>\n",
              "</table>\n",
              "<p>149972 rows × 14 columns</p>\n",
              "</div>"
            ],
            "text/plain": [
              "        overall   reviewTime  ... polarities subjectivities\n",
              "0           5.0  08 26, 2014  ...   0.229849       0.426437\n",
              "1           5.0  05 11, 2003  ...   0.280937       0.460303\n",
              "2           5.0   12 5, 2017  ...   0.800000       0.750000\n",
              "3           5.0  09 24, 2013  ...   0.680208       0.800000\n",
              "4           5.0  01 14, 2015  ...   0.129478       0.440930\n",
              "...         ...          ...  ...        ...            ...\n",
              "149995      5.0  09 12, 2013  ...   0.195663       0.553061\n",
              "149996      5.0  05 15, 2016  ...   0.263781       0.590520\n",
              "149997      5.0  06 13, 2004  ...   0.171429       0.457143\n",
              "149998      5.0  06 27, 2012  ...   0.095939       0.482133\n",
              "149999      5.0   03 6, 2000  ...   0.367273       0.730909\n",
              "\n",
              "[149972 rows x 14 columns]"
            ]
          },
          "metadata": {
            "tags": []
          },
          "execution_count": 30
        }
      ]
    },
    {
      "cell_type": "code",
      "metadata": {
        "id": "brRvUz28md5i"
      },
      "source": [
        "# save the preprocessed df in local\n",
        "train_df.to_csv(\"/content/drive/MyDrive/Colab Notebooks/preproced_train_df.csv\")"
      ],
      "execution_count": 31,
      "outputs": []
    }
  ]
}